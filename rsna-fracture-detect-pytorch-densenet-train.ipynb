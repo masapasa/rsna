{
 "cells": [
  {
   "cell_type": "markdown",
   "id": "90c23550",
   "metadata": {
    "papermill": {
     "duration": 0.012993,
     "end_time": "2022-09-08T09:44:54.157996",
     "exception": false,
     "start_time": "2022-09-08T09:44:54.145003",
     "status": "completed"
    },
    "tags": []
   },
   "source": [
    "<img src=\"https://i.imgur.com/rrdabd5.png\">\n",
    "\n",
    "<center><h1> - TRAIN: PyTorch Model - </h1></center>\n",
    "\n",
    "> 🦴 **Goal**: Detect and localize cervical spine fractures within CT scans.\n",
    "\n",
    "### 🆕 What is MONAI\n",
    "\n",
    "📌 [MONAI](https://monai.io/) is a freely available (open-source), community-supported, PyTorch-based framework for deep learning in *healthcare imaging*. It provides domain-optimized foundational capabilities for developing healthcare imaging training workflows in a native PyTorch paradigm.\n",
    "\n",
    "<div class=\"alert alert-block alert-info\">\n",
    "  <p>💡<b> Special Thanks</b>: A huge thank you to <a href=\"https://www.kaggle.com/boliu0\">Bo</a> and his notebook on <a href=\"https://www.kaggle.com/code/boliu0/monai-3d-cnn-training/notebook\">MONAI 3D CNN - Training</a>. This one helped me tremendously, as it put an order into the steps I had to follow to tackle 2 areas I haven't encountered before: multi-target approach and multi-scans for same instance scenario.</p>\n",
    "</div>\n",
    "\n",
    "### ⬇ Libraries"
   ]
  },
  {
   "cell_type": "code",
   "execution_count": 1,
   "id": "1347de0b",
   "metadata": {
    "_kg_hide-input": false,
    "_kg_hide-output": true,
    "execution": {
     "iopub.execute_input": "2022-09-08T09:44:54.183201Z",
     "iopub.status.busy": "2022-09-08T09:44:54.182437Z",
     "iopub.status.idle": "2022-09-08T09:46:41.057981Z",
     "shell.execute_reply": "2022-09-08T09:46:41.056741Z"
    },
    "papermill": {
     "duration": 106.89124,
     "end_time": "2022-09-08T09:46:41.060800",
     "exception": false,
     "start_time": "2022-09-08T09:44:54.169560",
     "status": "completed"
    },
    "tags": []
   },
   "outputs": [
    {
     "name": "stdout",
     "output_type": "stream",
     "text": [
      "\n",
      "Downloading and Extracting Packages\n",
      "######################################################################## | 100% \n",
      "Preparing transaction: done\n",
      "Verifying transaction: done\n",
      "Executing transaction: done\n",
      "Retrieving notices: ...working... done\n",
      "\n",
      "Downloading and Extracting Packages\n",
      "######################################################################## | 100% \n",
      "Preparing transaction: done\n",
      "Verifying transaction: done\n",
      "Executing transaction: done\n",
      "Retrieving notices: ...working... done\n",
      "\n",
      "Downloading and Extracting Packages\n",
      "######################################################################## | 100% \n",
      "Preparing transaction: done\n",
      "Verifying transaction: done\n",
      "Executing transaction: done\n",
      "Retrieving notices: ...working... done\n",
      "\n",
      "Downloading and Extracting Packages\n",
      "                                                                         |   0% \n",
      "\n",
      "PathNotFoundError: /home/aswin/Documents/rsna/conda-4.10.1-py37h89c1867_0.tar.bz2\n",
      "\n",
      "\n",
      "Downloading and Extracting Packages\n",
      "######################################################################## | 100% \n",
      "Preparing transaction: done\n",
      "Verifying transaction: done\n",
      "Executing transaction: done\n",
      "Retrieving notices: ...working... done\n",
      "\n",
      "Downloading and Extracting Packages\n",
      "######################################################################## | 100% \n",
      "Preparing transaction: done\n",
      "Verifying transaction: done\n",
      "Executing transaction: done\n",
      "Retrieving notices: ...working... done\n"
     ]
    }
   ],
   "source": [
    "# libjpeg & gdcm without internet access\n",
    "# src: https://www.kaggle.com/code/awsaf49/pydicom-conda-helper\n",
    "\n",
    "!wget 'https://anaconda.org/conda-forge/libjpeg-turbo/2.1.0/download/linux-64/libjpeg-turbo-2.1.0-h7f98852_0.tar.bz2' -q\n",
    "!wget 'https://anaconda.org/conda-forge/libgcc-ng/9.3.0/download/linux-64/libgcc-ng-9.3.0-h2828fa1_19.tar.bz2' -q\n",
    "!wget 'https://anaconda.org/conda-forge/gdcm/2.8.9/download/linux-64/gdcm-2.8.9-py37h500ead1_1.tar.bz2' -q\n",
    "!wget 'https://anaconda.org/conda-forge/conda/4.10.1/download/linux-64/conda-4.10.1-py37h89c1867_0.tar.bz2' -q\n",
    "!wget 'https://anaconda.org/conda-forge/certifi/2020.12.5/download/linux-64/certifi-2020.12.5-py37h89c1867_1.tar.bz2' -q\n",
    "!wget 'https://anaconda.org/conda-forge/openssl/1.1.1k/download/linux-64/openssl-1.1.1k-h7f98852_0.tar.bz2' -q\n",
    "\n",
    "!conda install 'libjpeg-turbo-2.1.0-h7f98852_0.tar.bz2' -c conda-forge -y\n",
    "!conda install 'libgcc-ng-9.3.0-h2828fa1_19.tar.bz2' -c conda-forge -y\n",
    "!conda install 'gdcm-2.8.9-py37h500ead1_1.tar.bz2' -c conda-forge -y\n",
    "!conda install 'conda-4.10.1-py37h89c1867_0.tar.bz2' -c conda-forge -y\n",
    "!conda install 'certifi-2020.12.5-py37h89c1867_1.tar.bz2' -c conda-forge -y\n",
    "!conda install 'openssl-1.1.1k-h7f98852_0.tar.bz2' -c conda-forge -y\n",
    "\n",
    "# MONAI 3D model\n",
    "!pip install -q monai\n",
    "!pip install -q git+https://github.com/ildoonet/pytorch-gradual-warmup-lr.git"
   ]
  },
  {
   "cell_type": "code",
   "execution_count": 2,
   "id": "2ce8fa18",
   "metadata": {
    "execution": {
     "iopub.execute_input": "2022-09-08T09:46:41.095455Z",
     "iopub.status.busy": "2022-09-08T09:46:41.094974Z",
     "iopub.status.idle": "2022-09-08T09:46:43.293271Z",
     "shell.execute_reply": "2022-09-08T09:46:43.291636Z"
    },
    "papermill": {
     "duration": 2.221414,
     "end_time": "2022-09-08T09:46:43.297801",
     "exception": false,
     "start_time": "2022-09-08T09:46:41.076387",
     "status": "completed"
    },
    "tags": []
   },
   "outputs": [
    {
     "name": "stderr",
     "output_type": "stream",
     "text": [
      "/home/aswin/anaconda3/envs/jina/lib/python3.9/site-packages/requests/__init__.py:102: RequestsDependencyWarning: urllib3 (1.26.11) or chardet (5.0.0)/charset_normalizer (2.0.12) doesn't match a supported version!\n",
      "  warnings.warn(\"urllib3 ({}) or chardet ({})/charset_normalizer ({}) doesn't match a supported \"\n"
     ]
    },
    {
     "name": "stdout",
     "output_type": "stream",
     "text": [
      "\u001b[1m\u001b[94mNotebook Color Schemes:\u001b[0m\n"
     ]
    },
    {
     "data": {
      "image/png": "[encoded data removed]",
      "text/plain": [
       "<Figure size 720x72 with 1 Axes>"
      ]
     },
     "metadata": {
      "needs_background": "light"
     },
     "output_type": "display_data"
    }
   ],
   "source": [
    "# Libraries\n",
    "import os\n",
    "import re\n",
    "import gc\n",
    "import cv2\n",
    "import wandb\n",
    "from PIL import Image\n",
    "import random\n",
    "import math\n",
    "import shutil\n",
    "from glob import glob\n",
    "from tqdm import tqdm\n",
    "from pprint import pprint\n",
    "from time import time\n",
    "import warnings\n",
    "import pandas as pd\n",
    "import numpy as np\n",
    "import seaborn as sns\n",
    "import matplotlib as mpl\n",
    "from matplotlib import cm\n",
    "import matplotlib.patches as patches\n",
    "import matplotlib.pyplot as plt\n",
    "import matplotlib.image as mpimg\n",
    "from matplotlib.offsetbox import AnnotationBbox, OffsetImage\n",
    "from matplotlib.colors import ListedColormap, LinearSegmentedColormap\n",
    "from matplotlib.patches import Rectangle\n",
    "from IPython.display import display_html\n",
    "plt.rcParams.update({'font.size': 16})\n",
    "\n",
    "# Environment check\n",
    "warnings.filterwarnings(\"ignore\")\n",
    "os.environ[\"WANDB_SILENT\"] = \"true\"\n",
    "CONFIG = {'competition': 'RSNA_SpineFructure', '_wandb_kernel': 'aot'}\n",
    "\n",
    "# Custom colors\n",
    "class clr:\n",
    "    S = '\\033[1m' + '\\033[94m'\n",
    "    E = '\\033[0m'\n",
    "    \n",
    "my_colors = [\"#5EAFD9\", \"#449DD1\", \"#3977BB\", \n",
    "             \"#2D51A5\", \"#5C4C8F\", \"#8B4679\",\n",
    "             \"#C53D4C\", \"#E23836\", \"#FF4633\", \"#FF5746\"]\n",
    "CMAP1 = ListedColormap(my_colors)\n",
    "\n",
    "print(clr.S+\"Notebook Color Schemes:\"+clr.E)\n",
    "sns.palplot(sns.color_palette(my_colors))\n",
    "plt.show()"
   ]
  },
  {
   "cell_type": "code",
   "execution_count": 3,
   "id": "de2543b8",
   "metadata": {
    "execution": {
     "iopub.execute_input": "2022-09-08T09:46:43.371894Z",
     "iopub.status.busy": "2022-09-08T09:46:43.371443Z",
     "iopub.status.idle": "2022-09-08T09:46:48.258420Z",
     "shell.execute_reply": "2022-09-08T09:46:48.257202Z"
    },
    "papermill": {
     "duration": 4.922486,
     "end_time": "2022-09-08T09:46:48.261333",
     "exception": false,
     "start_time": "2022-09-08T09:46:43.338847",
     "status": "completed"
    },
    "tags": []
   },
   "outputs": [],
   "source": [
    "# PyTorch\n",
    "import torch\n",
    "from torch.utils.data import TensorDataset, DataLoader, Dataset\n",
    "import torch.nn as nn\n",
    "import torch.nn.functional as F\n",
    "import torch.optim as optim\n",
    "from torch.optim import lr_scheduler\n",
    "from torch.utils.data.sampler import SubsetRandomSampler, RandomSampler, SequentialSampler\n",
    "from torch.optim.lr_scheduler import StepLR, ReduceLROnPlateau, CosineAnnealingLR\n",
    "import torchvision\n",
    "import torchvision.transforms as transforms\n",
    "from warmup_scheduler import GradualWarmupScheduler\n",
    "import albumentations\n",
    "\n",
    "from sklearn.model_selection import GroupKFold, train_test_split, StratifiedKFold\n",
    "from sklearn.metrics import roc_auc_score, cohen_kappa_score, confusion_matrix\n",
    "\n",
    "# MONAI 3D\n",
    "from monai.transforms import Randomizable, apply_transform\n",
    "from monai.transforms import Compose, Resize, ScaleIntensity, ToTensor, RandAffine\n",
    "from monai.networks.nets import densenet"
   ]
  },
  {
   "cell_type": "markdown",
   "id": "0eeba8a5",
   "metadata": {
    "papermill": {
     "duration": 0.015479,
     "end_time": "2022-09-08T09:46:48.293265",
     "exception": false,
     "start_time": "2022-09-08T09:46:48.277786",
     "status": "completed"
    },
    "tags": []
   },
   "source": [
    "### 🐝 W&B Fork & Run\n",
    "\n",
    "In order to run this notebook you will need to input your own **secret API key** within the `! wandb login $secret_value_0` line. \n",
    "\n",
    "🐝**How do you get your own API key?**\n",
    "\n",
    "Super simple! Go to **https://wandb.ai/site** -> Login -> Click on your profile in the top right corner -> Settings -> Scroll down to API keys -> copy your very own key (for more info check [this amazing notebook for ML Experiment Tracking on Kaggle](https://www.kaggle.com/ayuraj/experiment-tracking-with-weights-and-biases)).\n",
    "\n",
    "<center><img src=\"https://i.imgur.com/fFccmoS.png\" width=500></center>"
   ]
  },
  {
   "cell_type": "code",
   "execution_count": 4,
   "id": "27a20791",
   "metadata": {
    "execution": {
     "iopub.execute_input": "2022-09-08T09:46:48.326778Z",
     "iopub.status.busy": "2022-09-08T09:46:48.326013Z",
     "iopub.status.idle": "2022-09-08T09:46:51.466810Z",
     "shell.execute_reply": "2022-09-08T09:46:51.464916Z"
    },
    "papermill": {
     "duration": 3.16135,
     "end_time": "2022-09-08T09:46:51.470347",
     "exception": false,
     "start_time": "2022-09-08T09:46:48.308997",
     "status": "completed"
    },
    "tags": []
   },
   "outputs": [
    {
     "name": "stdout",
     "output_type": "stream",
     "text": [
      "/home/aswin/anaconda3/envs/jina/lib/python3.9/site-packages/requests/__init__.py:102: RequestsDependencyWarning: urllib3 (1.26.11) or chardet (5.0.0)/charset_normalizer (2.0.12) doesn't match a supported version!\n",
      "  warnings.warn(\"urllib3 ({}) or chardet ({})/charset_normalizer ({}) doesn't match a supported \"\n",
      "/home/aswin/anaconda3/envs/jina/lib/python3.9/site-packages/requests/__init__.py:102: RequestsDependencyWarning: urllib3 (1.26.11) or chardet (5.0.0)/charset_normalizer (2.0.12) doesn't match a supported version!\n",
      "  warnings.warn(\"urllib3 ({}) or chardet ({})/charset_normalizer ({}) doesn't match a supported \"\n",
      "\u001b[34m\u001b[1mwandb\u001b[0m: Paste an API key from your profile and hit enter, or press ctrl+c to quit: \n",
      "Aborted!\n"
     ]
    }
   ],
   "source": [
    "# # 🐝 Secrets\n",
    "# from kaggle_secrets import UserSecretsClient\n",
    "# user_secrets = UserSecretsClient()\n",
    "# secret_value_0 = user_secrets.get_secret(\"wandb\")\n",
    "\n",
    "! wandb login #$secret_value_0"
   ]
  },
  {
   "cell_type": "markdown",
   "id": "e6317697",
   "metadata": {
    "papermill": {
     "duration": 0.015437,
     "end_time": "2022-09-08T09:46:51.501635",
     "exception": false,
     "start_time": "2022-09-08T09:46:51.486198",
     "status": "completed"
    },
    "tags": []
   },
   "source": [
    "### ⬇ Helper Functions"
   ]
  },
  {
   "cell_type": "code",
   "execution_count": 5,
   "id": "021a9064",
   "metadata": {
    "_kg_hide-input": true,
    "execution": {
     "iopub.execute_input": "2022-09-08T09:46:51.536790Z",
     "iopub.status.busy": "2022-09-08T09:46:51.536335Z",
     "iopub.status.idle": "2022-09-08T09:46:51.561321Z",
     "shell.execute_reply": "2022-09-08T09:46:51.560120Z"
    },
    "jupyter": {
     "source_hidden": true
    },
    "papermill": {
     "duration": 0.046047,
     "end_time": "2022-09-08T09:46:51.563884",
     "exception": false,
     "start_time": "2022-09-08T09:46:51.517837",
     "status": "completed"
    },
    "tags": []
   },
   "outputs": [],
   "source": [
    "def set_seed(seed=0):\n",
    "    random.seed(seed)\n",
    "    np.random.seed(seed)\n",
    "    torch.manual_seed(seed)  \n",
    "    torch.cuda.manual_seed(seed)  \n",
    "    torch.cuda.manual_seed_all(seed)  \n",
    "    torch.backends.cudnn.deterministic = True\n",
    "    \n",
    "    \n",
    "def show_values_on_bars(axs, h_v=\"v\", space=0.4):\n",
    "    '''Plots the value at the end of the a seaborn barplot.\n",
    "    axs: the ax of the plot\n",
    "    h_v: weather or not the barplot is vertical/ horizontal'''\n",
    "    \n",
    "    def _show_on_single_plot(ax):\n",
    "        if h_v == \"v\":\n",
    "            for p in ax.patches:\n",
    "                _x = p.get_x() + p.get_width() / 2\n",
    "                _y = p.get_y() + p.get_height()\n",
    "                value = int(p.get_height())\n",
    "                ax.text(_x, _y, format(value, ','), ha=\"center\") \n",
    "        elif h_v == \"h\":\n",
    "            for p in ax.patches:\n",
    "                _x = p.get_x() + p.get_width() + float(space)\n",
    "                _y = p.get_y() + p.get_height()\n",
    "                value = int(p.get_width())\n",
    "                ax.text(_x, _y, format(value, ','), ha=\"left\")\n",
    "\n",
    "    if isinstance(axs, np.ndarray):\n",
    "        for idx, ax in np.ndenumerate(axs):\n",
    "            _show_on_single_plot(ax)\n",
    "    else:\n",
    "        _show_on_single_plot(axs)\n",
    "        \n",
    "        \n",
    "def atoi(text):\n",
    "    return int(text) if text.isdigit() else text\n",
    "\n",
    "def natural_keys(text):\n",
    "    '''\n",
    "    alist.sort(key=natural_keys) sorts in human order\n",
    "    http://nedbatchelder.com/blog/200712/human_sorting.html\n",
    "    (See Toothy's implementation in the comments)\n",
    "    '''\n",
    "    return [ atoi(c) for c in re.split(r'(\\d+)', text) ]\n",
    "        \n",
    "        \n",
    "# === 🐝 W&B ===\n",
    "def save_dataset_artifact(run_name, artifact_name, path, data_type=\"dataset\"):\n",
    "    '''Saves dataset to W&B Artifactory.\n",
    "    run_name: name of the experiment\n",
    "    artifact_name: under what name should the dataset be stored\n",
    "    path: path to the dataset'''\n",
    "    \n",
    "    run = wandb.init(project='RSNA_SpineFructure', \n",
    "                     name=run_name, \n",
    "                     config=CONFIG)\n",
    "    artifact = wandb.Artifact(name=artifact_name, \n",
    "                              type=data_type)\n",
    "    artifact.add_file(path)\n",
    "\n",
    "    wandb.log_artifact(artifact)\n",
    "    wandb.finish()\n",
    "    print(\"Artifact has been saved successfully.\")\n",
    "    \n",
    "    \n",
    "def create_wandb_plot(x_data=None, y_data=None, x_name=None, y_name=None, title=None, log=None, plot=\"line\"):\n",
    "    '''Create and save lineplot/barplot in W&B Environment.\n",
    "    x_data & y_data: Pandas Series containing x & y data\n",
    "    x_name & y_name: strings containing axis names\n",
    "    title: title of the graph\n",
    "    log: string containing name of log'''\n",
    "    \n",
    "    data = [[label, val] for (label, val) in zip(x_data, y_data)]\n",
    "    table = wandb.Table(data=data, columns = [x_name, y_name])\n",
    "    \n",
    "    if plot == \"line\":\n",
    "        wandb.log({log : wandb.plot.line(table, x_name, y_name, title=title)})\n",
    "    elif plot == \"bar\":\n",
    "        wandb.log({log : wandb.plot.bar(table, x_name, y_name, title=title)})\n",
    "    elif plot == \"scatter\":\n",
    "        wandb.log({log : wandb.plot.scatter(table, x_name, y_name, title=title)})\n",
    "        \n",
    "        \n",
    "def create_wandb_hist(x_data=None, x_name=None, title=None, log=None):\n",
    "    '''Create and save histogram in W&B Environment.\n",
    "    x_data: Pandas Series containing x values\n",
    "    x_name: strings containing axis name\n",
    "    title: title of the graph\n",
    "    log: string containing name of log'''\n",
    "    \n",
    "    data = [[x] for x in x_data]\n",
    "    table = wandb.Table(data=data, columns=[x_name])\n",
    "    wandb.log({log : wandb.plot.histogram(table, x_name, title=title)})"
   ]
  },
  {
   "cell_type": "markdown",
   "id": "7c8645dc",
   "metadata": {
    "papermill": {
     "duration": 0.015401,
     "end_time": "2022-09-08T09:46:51.595381",
     "exception": false,
     "start_time": "2022-09-08T09:46:51.579980",
     "status": "completed"
    },
    "tags": []
   },
   "source": [
    "# ⬇ Global Params\n",
    "\n",
    "📌 **Note**: For the moment I run out of memory in the Kaggle environment, no matter how low I set the `epoch_size`, `img_size`, `learning_rate` etc. So I will come back with the results and models I have locally & compare.\n",
    "\n",
    "<center><img src=\"https://i.imgur.com/SBhl7OB.jpg\" width=800></center>"
   ]
  },
  {
   "cell_type": "code",
   "execution_count": 6,
   "id": "24f5bc85",
   "metadata": {
    "execution": {
     "iopub.execute_input": "2022-09-08T09:46:51.628559Z",
     "iopub.status.busy": "2022-09-08T09:46:51.628137Z",
     "iopub.status.idle": "2022-09-08T09:46:51.636503Z",
     "shell.execute_reply": "2022-09-08T09:46:51.635414Z"
    },
    "papermill": {
     "duration": 0.027788,
     "end_time": "2022-09-08T09:46:51.638836",
     "exception": false,
     "start_time": "2022-09-08T09:46:51.611048",
     "status": "completed"
    },
    "tags": []
   },
   "outputs": [],
   "source": [
    "# 🌱 Seed    \n",
    "set_seed(0)"
   ]
  },
  {
   "cell_type": "code",
   "execution_count": 6,
   "id": "fd218d14",
   "metadata": {
    "execution": {
     "iopub.execute_input": "2022-09-08T09:46:51.672628Z",
     "iopub.status.busy": "2022-09-08T09:46:51.672257Z",
     "iopub.status.idle": "2022-09-08T09:46:51.679941Z",
     "shell.execute_reply": "2022-09-08T09:46:51.678745Z"
    },
    "papermill": {
     "duration": 0.027864,
     "end_time": "2022-09-08T09:46:51.682956",
     "exception": false,
     "start_time": "2022-09-08T09:46:51.655092",
     "status": "completed"
    },
    "tags": []
   },
   "outputs": [
    {
     "name": "stdout",
     "output_type": "stream",
     "text": [
      "\u001b[1m\u001b[94mDevice:\u001b[0m cuda\n"
     ]
    }
   ],
   "source": [
    "DEVICE = torch.device('cuda' if torch.cuda.is_available() else 'cpu')\n",
    "print(clr.S+\"Device:\"+clr.E, DEVICE)\n",
    "\n",
    "# Kaggle Notebook Setup\n",
    "DF_SIZE = 0.03\n",
    "N_SPLITS = 5\n",
    "KERNEL_TYPE = 'densenet121_baseline'\n",
    "IMG_RESIZE = 100\n",
    "STACK_RESIZE = 50\n",
    "use_amp = False\n",
    "NUM_WORKERS = 1\n",
    "BATCH_SIZE = 2\n",
    "LR = 0.05\n",
    "OUT_DIM = 8\n",
    "EPOCHS = 2\n",
    "\n",
    "# Local Setup\n",
    "# DF_SIZE = 1\n",
    "# N_SPLITS = 5\n",
    "# KERNEL_TYPE = 'densenet121_baseline'\n",
    "# IMG_RESIZE = 150\n",
    "# STACK_RESIZE = 50\n",
    "# use_amp = False\n",
    "# NUM_WORKERS = 4\n",
    "# BATCH_SIZE = 16\n",
    "# LR = 0.0005\n",
    "# OUT_DIM = 8\n",
    "# EPOCHS = 5"
   ]
  },
  {
   "cell_type": "markdown",
   "id": "2780ff93",
   "metadata": {
    "papermill": {
     "duration": 0.015442,
     "end_time": "2022-09-08T09:46:51.715110",
     "exception": false,
     "start_time": "2022-09-08T09:46:51.699668",
     "status": "completed"
    },
    "tags": []
   },
   "source": [
    "📌 The difference in this competition is that **we don't have 1 target column, but 8**, as the fracture could be present in multiple locations throughout the cervical area of the spine."
   ]
  },
  {
   "cell_type": "code",
   "execution_count": 7,
   "id": "45d705f5",
   "metadata": {
    "execution": {
     "iopub.execute_input": "2022-09-08T09:46:51.748434Z",
     "iopub.status.busy": "2022-09-08T09:46:51.747984Z",
     "iopub.status.idle": "2022-09-08T09:46:51.753249Z",
     "shell.execute_reply": "2022-09-08T09:46:51.751958Z"
    },
    "papermill": {
     "duration": 0.024772,
     "end_time": "2022-09-08T09:46:51.755508",
     "exception": false,
     "start_time": "2022-09-08T09:46:51.730736",
     "status": "completed"
    },
    "tags": []
   },
   "outputs": [],
   "source": [
    "target_cols = ['C1', 'C2', 'C3', \n",
    "               'C4', 'C5', 'C6', 'C7',\n",
    "               'patient_overall']"
   ]
  },
  {
   "cell_type": "markdown",
   "id": "a96100d1",
   "metadata": {
    "papermill": {
     "duration": 0.015398,
     "end_time": "2022-09-08T09:46:51.786594",
     "exception": false,
     "start_time": "2022-09-08T09:46:51.771196",
     "status": "completed"
    },
    "tags": []
   },
   "source": [
    "# 1. Evaluation Metric Understanding\n",
    "\n",
    "Below is an example of how (I think) the formula works.\n",
    "\n",
    "As seen in [this discussion post](https://www.kaggle.com/competitions/rsna-2022-cervical-spine-fracture-detection/discussion/341854) and [this weighted log loss post](https://www.kaggle.com/competitions/rsna-2022-cervical-spine-fracture-detection/discussion/340392) we now know that the `w` (weight) within the given Log Loss formula can have 4 values:\n",
    "* 1 - if the *label* is a vertebrae and it's NOT present\n",
    "* 2 - if the *label* is a vertebrae and it IS present\n",
    "* 7 - if the *label* is from *overall patient* and it's NOT present\n",
    "* 14 - if the *label* is from *overall patient* and it IS present"
   ]
  },
  {
   "cell_type": "code",
   "execution_count": 8,
   "id": "a5fc6d04",
   "metadata": {
    "execution": {
     "iopub.execute_input": "2022-09-08T09:46:51.820028Z",
     "iopub.status.busy": "2022-09-08T09:46:51.819621Z",
     "iopub.status.idle": "2022-09-08T09:46:51.825754Z",
     "shell.execute_reply": "2022-09-08T09:46:51.824826Z"
    },
    "papermill": {
     "duration": 0.025772,
     "end_time": "2022-09-08T09:46:51.828025",
     "exception": false,
     "start_time": "2022-09-08T09:46:51.802253",
     "status": "completed"
    },
    "tags": []
   },
   "outputs": [],
   "source": [
    "# src: https://www.kaggle.com/competitions/rsna-2022-cervical-spine-fracture-detection/discussion/341854\n",
    "competition_weights = {\n",
    "    '-' : torch.tensor([1, 1, 1, 1, 1, 1, 1, 7], dtype=torch.float, device=DEVICE),\n",
    "    '+' : torch.tensor([2, 2, 2, 2, 2, 2, 2, 14], dtype=torch.float, device=DEVICE),\n",
    "}"
   ]
  },
  {
   "cell_type": "code",
   "execution_count": 9,
   "id": "c45b4310",
   "metadata": {
    "execution": {
     "iopub.execute_input": "2022-09-08T09:46:51.861751Z",
     "iopub.status.busy": "2022-09-08T09:46:51.860678Z",
     "iopub.status.idle": "2022-09-08T09:46:51.871084Z",
     "shell.execute_reply": "2022-09-08T09:46:51.869868Z"
    },
    "papermill": {
     "duration": 0.03008,
     "end_time": "2022-09-08T09:46:51.873855",
     "exception": false,
     "start_time": "2022-09-08T09:46:51.843775",
     "status": "completed"
    },
    "tags": []
   },
   "outputs": [
    {
     "name": "stdout",
     "output_type": "stream",
     "text": [
      "\u001b[1m\u001b[94mPrediction:\u001b[0m \n",
      " tensor([[0.2221, 0.1037, 0.0739, 0.1112, 0.1026, 0.0902, 0.1597, 0.1365],\n",
      "        [0.1702, 0.0952, 0.0815, 0.1262, 0.1185, 0.1097, 0.1675, 0.1312]],\n",
      "       device='cuda:0')\n",
      "\u001b[1m\u001b[94mTarget:\u001b[0m \n",
      " tensor([[0., 0., 0., 0., 0., 0., 0., 0.],\n",
      "        [1., 0., 0., 0., 0., 0., 0., 1.]], device='cuda:0')\n"
     ]
    }
   ],
   "source": [
    "# Example\n",
    "\n",
    "# Prediction (very bad)\n",
    "logits = torch.tensor([[0.2221, 0.1037, 0.0739, 0.1112, 0.1026, 0.0902, 0.1597, 0.1365],\n",
    "                       [0.1702, 0.0952, 0.0815, 0.1262, 0.1185, 0.1097, 0.1675, 0.1312]],\n",
    "                      device=DEVICE)\n",
    "print(clr.S+\"Prediction:\"+clr.E, \"\\n\", logits)\n",
    "\n",
    "# Actual\n",
    "targets = torch.tensor([[0., 0., 0., 0., 0., 0., 0., 0.],\n",
    "                        [1., 0., 0., 0., 0., 0., 0., 1.]], device=DEVICE)\n",
    "print(clr.S+\"Target:\"+clr.E, \"\\n\", targets)"
   ]
  },
  {
   "cell_type": "code",
   "execution_count": 10,
   "id": "074d4a52",
   "metadata": {
    "execution": {
     "iopub.execute_input": "2022-09-08T09:46:51.908628Z",
     "iopub.status.busy": "2022-09-08T09:46:51.908224Z",
     "iopub.status.idle": "2022-09-08T09:46:51.917162Z",
     "shell.execute_reply": "2022-09-08T09:46:51.915743Z"
    },
    "papermill": {
     "duration": 0.03003,
     "end_time": "2022-09-08T09:46:51.919782",
     "exception": false,
     "start_time": "2022-09-08T09:46:51.889752",
     "status": "completed"
    },
    "tags": []
   },
   "outputs": [
    {
     "name": "stdout",
     "output_type": "stream",
     "text": [
      "\u001b[1m\u001b[94mWeights:\u001b[0m \n",
      " tensor([[ 1.,  1.,  1.,  1.,  1.,  1.,  1.,  7.],\n",
      "        [ 2.,  1.,  1.,  1.,  1.,  1.,  1., 14.]], device='cuda:0')\n"
     ]
    }
   ],
   "source": [
    "# Compute the weights\n",
    "weights = targets * competition_weights['+'] + (1 - targets) * competition_weights['-']\n",
    "print(clr.S+\"Weights:\"+clr.E, \"\\n\", weights)"
   ]
  },
  {
   "cell_type": "code",
   "execution_count": 11,
   "id": "cf6f6ae4",
   "metadata": {
    "execution": {
     "iopub.execute_input": "2022-09-08T09:46:51.953871Z",
     "iopub.status.busy": "2022-09-08T09:46:51.952848Z",
     "iopub.status.idle": "2022-09-08T09:46:51.963605Z",
     "shell.execute_reply": "2022-09-08T09:46:51.962675Z"
    },
    "papermill": {
     "duration": 0.030357,
     "end_time": "2022-09-08T09:46:51.966205",
     "exception": false,
     "start_time": "2022-09-08T09:46:51.935848",
     "status": "completed"
    },
    "tags": []
   },
   "outputs": [
    {
     "name": "stdout",
     "output_type": "stream",
     "text": [
      "\u001b[1m\u001b[94mLOSSES:\u001b[0m \n",
      " tensor([[ 0.2512,  0.1095,  0.0768,  0.1179,  0.1083,  0.0945,  0.1740,  1.0273],\n",
      "        [ 3.5416,  0.1000,  0.0850,  0.1349,  0.1261,  0.1162,  0.1833, 28.4345]],\n",
      "       device='cuda:0')\n"
     ]
    }
   ],
   "source": [
    "# Compute losses on label and exam level\n",
    "L = torch.zeros(targets.shape, device=DEVICE)\n",
    "\n",
    "w = weights\n",
    "y = targets\n",
    "p = logits\n",
    "\n",
    "for i in range(L.shape[0]):\n",
    "    for j in range(L.shape[1]):\n",
    "        L[i, j] = -w[i, j] * (\n",
    "            y[i, j] * math.log(p[i, j]) +\n",
    "            (1 - y[i, j]) * math.log(1 - p[i, j]))\n",
    "        \n",
    "print(clr.S+\"LOSSES:\"+clr.E, \"\\n\", L)"
   ]
  },
  {
   "cell_type": "code",
   "execution_count": 12,
   "id": "945ae870",
   "metadata": {
    "execution": {
     "iopub.execute_input": "2022-09-08T09:46:52.000658Z",
     "iopub.status.busy": "2022-09-08T09:46:51.999868Z",
     "iopub.status.idle": "2022-09-08T09:46:52.008290Z",
     "shell.execute_reply": "2022-09-08T09:46:52.007011Z"
    },
    "papermill": {
     "duration": 0.028522,
     "end_time": "2022-09-08T09:46:52.010896",
     "exception": false,
     "start_time": "2022-09-08T09:46:51.982374",
     "status": "completed"
    },
    "tags": []
   },
   "outputs": [
    {
     "name": "stdout",
     "output_type": "stream",
     "text": [
      "\u001b[1m\u001b[94mExam Losses:\u001b[0m \n",
      " tensor([0.1400, 1.4873], device='cuda:0')\n"
     ]
    }
   ],
   "source": [
    "# Average Loss on Exam (or patient)\n",
    "Exams_Loss = torch.div(torch.sum(L, dim=1), torch.sum(w, dim=1))\n",
    "\n",
    "print(clr.S+\"Exam Losses:\"+clr.E, \"\\n\", Exams_Loss)"
   ]
  },
  {
   "cell_type": "markdown",
   "id": "85fc58d7",
   "metadata": {
    "papermill": {
     "duration": 0.015797,
     "end_time": "2022-09-08T09:46:52.042768",
     "exception": false,
     "start_time": "2022-09-08T09:46:52.026971",
     "status": "completed"
    },
    "tags": []
   },
   "source": [
    "> Below is a breakdown on how the formula works (this breakdown helped me A LOT - curtosy of [🦴 RSNA Fracture Detection - in-depth EDA](https://www.kaggle.com/code/samuelcortinhas/rsna-fracture-detection-in-depth-eda) notebook by [Samuel Cortinhas](https://www.kaggle.com/samuelcortinhas).\n",
    "\n",
    "<center><img src=\"https://i.imgur.com/GXxNezD.jpg\" width=800></center>\n",
    "\n",
    "## ⤵ Custom Loss Function\n",
    "\n",
    "🦴 **Side Note**: the `eps` parameter is so that we never have a `log(0)` - which is *undefined*. More on this in [this discussion post](https://www.kaggle.com/competitions/rsna-2022-cervical-spine-fracture-detection/discussion/349669)."
   ]
  },
  {
   "cell_type": "code",
   "execution_count": 13,
   "id": "ab0c1cd4",
   "metadata": {
    "execution": {
     "iopub.execute_input": "2022-09-08T09:46:52.077195Z",
     "iopub.status.busy": "2022-09-08T09:46:52.076468Z",
     "iopub.status.idle": "2022-09-08T09:46:52.084320Z",
     "shell.execute_reply": "2022-09-08T09:46:52.083410Z"
    },
    "papermill": {
     "duration": 0.027784,
     "end_time": "2022-09-08T09:46:52.086617",
     "exception": false,
     "start_time": "2022-09-08T09:46:52.058833",
     "status": "completed"
    },
    "tags": []
   },
   "outputs": [],
   "source": [
    "def get_custom_loss(logits, targets):\n",
    "    \n",
    "    # Compute the weights\n",
    "    weights = targets * competition_weights['+'] + (1 - targets) * competition_weights['-']\n",
    "    \n",
    "    # Losses on label and exam level\n",
    "    L = torch.zeros(targets.shape, device=DEVICE)\n",
    "\n",
    "    w = weights\n",
    "    y = targets\n",
    "    p = logits\n",
    "    eps=1e-8\n",
    "\n",
    "    for i in range(L.shape[0]):\n",
    "        for j in range(L.shape[1]):\n",
    "            L[i, j] = -w[i, j] * (\n",
    "                y[i, j] * math.log(p[i, j] + eps) +\n",
    "                (1 - y[i, j]) * math.log(1 - p[i, j] + eps))\n",
    "            \n",
    "    # Average Loss on Exam (or patient)\n",
    "    Exams_Loss = torch.div(torch.sum(L, dim=1), torch.sum(w, dim=1))\n",
    "    \n",
    "    return Exams_Loss"
   ]
  },
  {
   "cell_type": "markdown",
   "id": "ad8e59c0",
   "metadata": {
    "papermill": {
     "duration": 0.016405,
     "end_time": "2022-09-08T09:46:52.119336",
     "exception": false,
     "start_time": "2022-09-08T09:46:52.102931",
     "status": "completed"
    },
    "tags": []
   },
   "source": [
    "# 2. Data Split\n",
    "\n",
    "📌 We will split the data on folds, **bearing in mind to group based on the `StudyInstanceUID`** - meaning that we want to have all CT scans from one study grouped together, not scattered throughout the training and validation data."
   ]
  },
  {
   "cell_type": "code",
   "execution_count": 14,
   "id": "4886ce12",
   "metadata": {
    "execution": {
     "iopub.execute_input": "2022-09-08T09:46:52.153753Z",
     "iopub.status.busy": "2022-09-08T09:46:52.153026Z",
     "iopub.status.idle": "2022-09-08T09:46:52.201868Z",
     "shell.execute_reply": "2022-09-08T09:46:52.200548Z"
    },
    "papermill": {
     "duration": 0.069323,
     "end_time": "2022-09-08T09:46:52.204616",
     "exception": false,
     "start_time": "2022-09-08T09:46:52.135293",
     "status": "completed"
    },
    "tags": []
   },
   "outputs": [
    {
     "name": "stdout",
     "output_type": "stream",
     "text": [
      "\u001b[1m\u001b[94mDataframe size:\u001b[0m (60, 10)\n",
      "\u001b[1m\u001b[94mK Folds Count:\u001b[0m\n"
     ]
    },
    {
     "data": {
      "text/plain": [
       "4    12\n",
       "2    12\n",
       "3    12\n",
       "0    12\n",
       "1    12\n",
       "Name: fold, dtype: int64"
      ]
     },
     "execution_count": 14,
     "metadata": {},
     "output_type": "execute_result"
    }
   ],
   "source": [
    "np.random.seed(0)\n",
    "\n",
    "df = pd.read_csv(\"/home/aswin/data/archive/train.csv\")\n",
    "\n",
    "# Sample down df\n",
    "instances = df.StudyInstanceUID.unique().tolist()\n",
    "instances = random.sample(instances, k=int(len(instances)*DF_SIZE))\n",
    "df = df[df[\"StudyInstanceUID\"].isin(instances)].reset_index(drop=True)\n",
    "print(clr.S+\"Dataframe size:\"+clr.E, df.shape)\n",
    "\n",
    "# Create folds\n",
    "kfold = GroupKFold(n_splits=N_SPLITS)\n",
    "df['fold'] = -1\n",
    "\n",
    "# Append fold\n",
    "for k, (_, valid_i) in enumerate(kfold.split(df,\n",
    "                                             groups=df.StudyInstanceUID)):\n",
    "    df.loc[valid_i, 'fold'] = k\n",
    "    \n",
    "print(clr.S+\"K Folds Count:\"+clr.E)\n",
    "df[\"fold\"].value_counts()"
   ]
  },
  {
   "cell_type": "markdown",
   "id": "e62e7d2d",
   "metadata": {
    "papermill": {
     "duration": 0.015951,
     "end_time": "2022-09-08T09:46:52.237461",
     "exception": false,
     "start_time": "2022-09-08T09:46:52.221510",
     "status": "completed"
    },
    "tags": []
   },
   "source": [
    "# 3. PyTorch Dataset\n",
    "\n",
    "The dataset!\n",
    "\n",
    "Another **difference** that we have in this competition is that we have **multiple CT scans** for one case. Meaning that we can use multiple images to predict if there is one or multiple fractures involved in the particular study.\n",
    "\n",
    "This is an area I got stuck again (and this is why Bo's [notebook](https://www.kaggle.com/code/boliu0/monai-3d-cnn-training/notebook) helped clear things out for me), cuz how was I supposed to use all images at once?\n",
    "\n",
    "I gather from multiple solutions that there are *many* ways this could be approached. In here we will use `np.stack()` to stack all the scans together.\n",
    "\n",
    "Below is a detailed explanation on how the code below works.\n",
    "\n",
    "<center><img src=\"https://i.imgur.com/sVqtvWe.jpg\" width=800></center>"
   ]
  },
  {
   "cell_type": "code",
   "execution_count": 15,
   "id": "0c6f0d00",
   "metadata": {
    "execution": {
     "iopub.execute_input": "2022-09-08T09:46:52.272173Z",
     "iopub.status.busy": "2022-09-08T09:46:52.271425Z",
     "iopub.status.idle": "2022-09-08T09:46:52.282542Z",
     "shell.execute_reply": "2022-09-08T09:46:52.281574Z"
    },
    "papermill": {
     "duration": 0.031132,
     "end_time": "2022-09-08T09:46:52.284811",
     "exception": false,
     "start_time": "2022-09-08T09:46:52.253679",
     "status": "completed"
    },
    "tags": []
   },
   "outputs": [],
   "source": [
    "class RSNADataset(Dataset, Randomizable):\n",
    "    \n",
    "    def __init__(self, csv, mode, transform=None):\n",
    "        self.csv = csv\n",
    "        self.mode = mode\n",
    "        self.transform = transform\n",
    "        \n",
    "    def __len__(self):\n",
    "        return self.csv.shape[0]\n",
    "    \n",
    "    def randomize(self) -> None:\n",
    "        '''-> None is a type annotation for the function that states \n",
    "        that this function returns None.'''\n",
    "        \n",
    "        MAX_SEED = np.iinfo(np.uint32).max + 1\n",
    "        self.seed = self.R.randint(MAX_SEED, dtype=\"uint32\")\n",
    "        \n",
    "    def __getitem__(self, index):\n",
    "        # Set Random Seed\n",
    "        self.randomize()\n",
    "        \n",
    "        dt = self.csv.iloc[index, :]\n",
    "        study_paths = glob(f\"/home/aswin/data/archive/zip_png_images{dt.StudyInstanceUID}/*\")\n",
    "        study_paths.sort(key=natural_keys)\n",
    "        \n",
    "        # Load images\n",
    "        study_images = [cv2.imread(path)[:,:,::-1] for path in study_paths]\n",
    "        # Stack all scans into 1\n",
    "        stacked_image = np.stack([img.astype(np.float32) for img in study_images], \n",
    "                                 axis=2).transpose(3,0,1,2)\n",
    "        \n",
    "        if self.transform:\n",
    "            if isinstance(self.transform, Randomizable):\n",
    "                self.transform.set_random_state(seed=self.seed)\n",
    "                \n",
    "            stacked_image = apply_transform(self.transform, stacked_image)\n",
    "            \n",
    "        if self.mode==\"test\":\n",
    "            return {\"image\": stacked_image}\n",
    "        else:\n",
    "            targets = torch.tensor(dt[target_cols]).float()\n",
    "            return {\"image\": stacked_image,\n",
    "                    \"targets\": targets}"
   ]
  },
  {
   "cell_type": "markdown",
   "id": "4d01ef39",
   "metadata": {
    "papermill": {
     "duration": 0.015927,
     "end_time": "2022-09-08T09:46:52.316954",
     "exception": false,
     "start_time": "2022-09-08T09:46:52.301027",
     "status": "completed"
    },
    "tags": []
   },
   "source": [
    "## 3.1 Custom to_device() function\n",
    "\n",
    "This function sends the data to **GPU**."
   ]
  },
  {
   "cell_type": "code",
   "execution_count": 16,
   "id": "d66105af",
   "metadata": {
    "execution": {
     "iopub.execute_input": "2022-09-08T09:46:52.351873Z",
     "iopub.status.busy": "2022-09-08T09:46:52.351136Z",
     "iopub.status.idle": "2022-09-08T09:46:52.355937Z",
     "shell.execute_reply": "2022-09-08T09:46:52.355117Z"
    },
    "papermill": {
     "duration": 0.024991,
     "end_time": "2022-09-08T09:46:52.358203",
     "exception": false,
     "start_time": "2022-09-08T09:46:52.333212",
     "status": "completed"
    },
    "tags": []
   },
   "outputs": [],
   "source": [
    "def data_to_device(data):\n",
    "    \n",
    "    image, targets = data.values()\n",
    "    return image.to(DEVICE), targets.to(DEVICE)"
   ]
  },
  {
   "cell_type": "markdown",
   "id": "32107b3c",
   "metadata": {
    "papermill": {
     "duration": 0.016102,
     "end_time": "2022-09-08T09:46:52.390967",
     "exception": false,
     "start_time": "2022-09-08T09:46:52.374865",
     "status": "completed"
    },
    "tags": []
   },
   "source": [
    "## 3.2 Custom transform\n",
    "\n",
    "*TODO: Add more transforms to the training part.*"
   ]
  },
  {
   "cell_type": "code",
   "execution_count": 17,
   "id": "79693520",
   "metadata": {
    "execution": {
     "iopub.execute_input": "2022-09-08T09:46:52.425825Z",
     "iopub.status.busy": "2022-09-08T09:46:52.425088Z",
     "iopub.status.idle": "2022-09-08T09:46:52.432860Z",
     "shell.execute_reply": "2022-09-08T09:46:52.432113Z"
    },
    "papermill": {
     "duration": 0.027569,
     "end_time": "2022-09-08T09:46:52.434971",
     "exception": false,
     "start_time": "2022-09-08T09:46:52.407402",
     "status": "completed"
    },
    "tags": []
   },
   "outputs": [],
   "source": [
    "train_transforms = Compose([ScaleIntensity(), \n",
    "                            Resize((IMG_RESIZE, IMG_RESIZE, STACK_RESIZE)), \n",
    "                            # TODO - add more here\n",
    "                            ToTensor()])\n",
    "valid_transforms = Compose([ScaleIntensity(), \n",
    "                          Resize((IMG_RESIZE, IMG_RESIZE, STACK_RESIZE)), \n",
    "                          ToTensor()])"
   ]
  },
  {
   "cell_type": "markdown",
   "id": "e438fe1f",
   "metadata": {
    "papermill": {
     "duration": 0.01647,
     "end_time": "2022-09-08T09:46:52.467718",
     "exception": false,
     "start_time": "2022-09-08T09:46:52.451248",
     "status": "completed"
    },
    "tags": []
   },
   "source": [
    "## 🩺 3.3 Sanity Check\n",
    "\n",
    "Let's test the function with an example and see if everything works as it should.\n",
    "\n",
    "<center><img src=\"https://i.imgur.com/NRn4HDz.jpg\" width=800></center>"
   ]
  },
  {
   "cell_type": "code",
   "execution_count": 18,
   "id": "fde638da",
   "metadata": {
    "execution": {
     "iopub.execute_input": "2022-09-08T09:46:52.501897Z",
     "iopub.status.busy": "2022-09-08T09:46:52.501306Z",
     "iopub.status.idle": "2022-09-08T09:48:01.708033Z",
     "shell.execute_reply": "2022-09-08T09:48:01.705749Z"
    },
    "papermill": {
     "duration": 69.243384,
     "end_time": "2022-09-08T09:48:01.727218",
     "exception": false,
     "start_time": "2022-09-08T09:46:52.483834",
     "status": "completed"
    },
    "tags": []
   },
   "outputs": [
    {
     "ename": "ValueError",
     "evalue": "need at least one array to stack",
     "output_type": "error",
     "traceback": [
      "\u001b[0;31m---------------------------------------------------------------------------\u001b[0m",
      "\u001b[0;31mValueError\u001b[0m                                Traceback (most recent call last)",
      "\u001b[1;32m/home/aswin/Documents/rsna/rsna-fracture-detect-pytorch-densenet-train.ipynb Cell 31\u001b[0m in \u001b[0;36m<cell line: 10>\u001b[0;34m()\u001b[0m\n\u001b[1;32m      <a href='vscode-notebook-cell:/home/aswin/Documents/rsna/rsna-fracture-detect-pytorch-densenet-train.ipynb#X42sZmlsZQ%3D%3D?line=6'>7</a>\u001b[0m dataloader \u001b[39m=\u001b[39m DataLoader(dataset, batch_size\u001b[39m=\u001b[39m\u001b[39m3\u001b[39m, shuffle\u001b[39m=\u001b[39m\u001b[39mFalse\u001b[39;00m)\n\u001b[1;32m      <a href='vscode-notebook-cell:/home/aswin/Documents/rsna/rsna-fracture-detect-pytorch-densenet-train.ipynb#X42sZmlsZQ%3D%3D?line=8'>9</a>\u001b[0m \u001b[39m# Output of the Dataloader\u001b[39;00m\n\u001b[0;32m---> <a href='vscode-notebook-cell:/home/aswin/Documents/rsna/rsna-fracture-detect-pytorch-densenet-train.ipynb#X42sZmlsZQ%3D%3D?line=9'>10</a>\u001b[0m \u001b[39mfor\u001b[39;00m k, data \u001b[39min\u001b[39;00m \u001b[39menumerate\u001b[39m(dataloader):\n\u001b[1;32m     <a href='vscode-notebook-cell:/home/aswin/Documents/rsna/rsna-fracture-detect-pytorch-densenet-train.ipynb#X42sZmlsZQ%3D%3D?line=10'>11</a>\u001b[0m     image, targets \u001b[39m=\u001b[39m data_to_device(data)\n\u001b[1;32m     <a href='vscode-notebook-cell:/home/aswin/Documents/rsna/rsna-fracture-detect-pytorch-densenet-train.ipynb#X42sZmlsZQ%3D%3D?line=11'>12</a>\u001b[0m     \u001b[39mprint\u001b[39m(clr\u001b[39m.\u001b[39mS \u001b[39m+\u001b[39m \u001b[39mf\u001b[39m\u001b[39m\"\u001b[39m\u001b[39mBatch: \u001b[39m\u001b[39m{\u001b[39;00mk\u001b[39m}\u001b[39;00m\u001b[39m\"\u001b[39m \u001b[39m+\u001b[39m clr\u001b[39m.\u001b[39mE, \u001b[39m\"\u001b[39m\u001b[39m\\n\u001b[39;00m\u001b[39m\"\u001b[39m \u001b[39m+\u001b[39m\n\u001b[1;32m     <a href='vscode-notebook-cell:/home/aswin/Documents/rsna/rsna-fracture-detect-pytorch-densenet-train.ipynb#X42sZmlsZQ%3D%3D?line=12'>13</a>\u001b[0m           clr\u001b[39m.\u001b[39mS \u001b[39m+\u001b[39m \u001b[39m\"\u001b[39m\u001b[39mImage:\u001b[39m\u001b[39m\"\u001b[39m \u001b[39m+\u001b[39m clr\u001b[39m.\u001b[39mE, image\u001b[39m.\u001b[39mshape, \u001b[39m\"\u001b[39m\u001b[39m\\n\u001b[39;00m\u001b[39m\"\u001b[39m \u001b[39m+\u001b[39m\n\u001b[1;32m     <a href='vscode-notebook-cell:/home/aswin/Documents/rsna/rsna-fracture-detect-pytorch-densenet-train.ipynb#X42sZmlsZQ%3D%3D?line=13'>14</a>\u001b[0m           clr\u001b[39m.\u001b[39mS \u001b[39m+\u001b[39m \u001b[39m\"\u001b[39m\u001b[39mTargets:\u001b[39m\u001b[39m\"\u001b[39m \u001b[39m+\u001b[39m clr\u001b[39m.\u001b[39mE, targets, \u001b[39m\"\u001b[39m\u001b[39m\\n\u001b[39;00m\u001b[39m\"\u001b[39m \u001b[39m+\u001b[39m\n\u001b[1;32m     <a href='vscode-notebook-cell:/home/aswin/Documents/rsna/rsna-fracture-detect-pytorch-densenet-train.ipynb#X42sZmlsZQ%3D%3D?line=14'>15</a>\u001b[0m           \u001b[39m\"\u001b[39m\u001b[39m=\u001b[39m\u001b[39m\"\u001b[39m\u001b[39m*\u001b[39m\u001b[39m50\u001b[39m)\n",
      "File \u001b[0;32m~/anaconda3/envs/jina/lib/python3.9/site-packages/torch/utils/data/dataloader.py:652\u001b[0m, in \u001b[0;36m_BaseDataLoaderIter.__next__\u001b[0;34m(self)\u001b[0m\n\u001b[1;32m    649\u001b[0m \u001b[39mif\u001b[39;00m \u001b[39mself\u001b[39m\u001b[39m.\u001b[39m_sampler_iter \u001b[39mis\u001b[39;00m \u001b[39mNone\u001b[39;00m:\n\u001b[1;32m    650\u001b[0m     \u001b[39m# TODO(https://github.com/pytorch/pytorch/issues/76750)\u001b[39;00m\n\u001b[1;32m    651\u001b[0m     \u001b[39mself\u001b[39m\u001b[39m.\u001b[39m_reset()  \u001b[39m# type: ignore[call-arg]\u001b[39;00m\n\u001b[0;32m--> 652\u001b[0m data \u001b[39m=\u001b[39m \u001b[39mself\u001b[39;49m\u001b[39m.\u001b[39;49m_next_data()\n\u001b[1;32m    653\u001b[0m \u001b[39mself\u001b[39m\u001b[39m.\u001b[39m_num_yielded \u001b[39m+\u001b[39m\u001b[39m=\u001b[39m \u001b[39m1\u001b[39m\n\u001b[1;32m    654\u001b[0m \u001b[39mif\u001b[39;00m \u001b[39mself\u001b[39m\u001b[39m.\u001b[39m_dataset_kind \u001b[39m==\u001b[39m _DatasetKind\u001b[39m.\u001b[39mIterable \u001b[39mand\u001b[39;00m \\\n\u001b[1;32m    655\u001b[0m         \u001b[39mself\u001b[39m\u001b[39m.\u001b[39m_IterableDataset_len_called \u001b[39mis\u001b[39;00m \u001b[39mnot\u001b[39;00m \u001b[39mNone\u001b[39;00m \u001b[39mand\u001b[39;00m \\\n\u001b[1;32m    656\u001b[0m         \u001b[39mself\u001b[39m\u001b[39m.\u001b[39m_num_yielded \u001b[39m>\u001b[39m \u001b[39mself\u001b[39m\u001b[39m.\u001b[39m_IterableDataset_len_called:\n",
      "File \u001b[0;32m~/anaconda3/envs/jina/lib/python3.9/site-packages/torch/utils/data/dataloader.py:692\u001b[0m, in \u001b[0;36m_SingleProcessDataLoaderIter._next_data\u001b[0;34m(self)\u001b[0m\n\u001b[1;32m    690\u001b[0m \u001b[39mdef\u001b[39;00m \u001b[39m_next_data\u001b[39m(\u001b[39mself\u001b[39m):\n\u001b[1;32m    691\u001b[0m     index \u001b[39m=\u001b[39m \u001b[39mself\u001b[39m\u001b[39m.\u001b[39m_next_index()  \u001b[39m# may raise StopIteration\u001b[39;00m\n\u001b[0;32m--> 692\u001b[0m     data \u001b[39m=\u001b[39m \u001b[39mself\u001b[39;49m\u001b[39m.\u001b[39;49m_dataset_fetcher\u001b[39m.\u001b[39;49mfetch(index)  \u001b[39m# may raise StopIteration\u001b[39;00m\n\u001b[1;32m    693\u001b[0m     \u001b[39mif\u001b[39;00m \u001b[39mself\u001b[39m\u001b[39m.\u001b[39m_pin_memory:\n\u001b[1;32m    694\u001b[0m         data \u001b[39m=\u001b[39m _utils\u001b[39m.\u001b[39mpin_memory\u001b[39m.\u001b[39mpin_memory(data, \u001b[39mself\u001b[39m\u001b[39m.\u001b[39m_pin_memory_device)\n",
      "File \u001b[0;32m~/anaconda3/envs/jina/lib/python3.9/site-packages/torch/utils/data/_utils/fetch.py:49\u001b[0m, in \u001b[0;36m_MapDatasetFetcher.fetch\u001b[0;34m(self, possibly_batched_index)\u001b[0m\n\u001b[1;32m     47\u001b[0m \u001b[39mdef\u001b[39;00m \u001b[39mfetch\u001b[39m(\u001b[39mself\u001b[39m, possibly_batched_index):\n\u001b[1;32m     48\u001b[0m     \u001b[39mif\u001b[39;00m \u001b[39mself\u001b[39m\u001b[39m.\u001b[39mauto_collation:\n\u001b[0;32m---> 49\u001b[0m         data \u001b[39m=\u001b[39m [\u001b[39mself\u001b[39m\u001b[39m.\u001b[39mdataset[idx] \u001b[39mfor\u001b[39;00m idx \u001b[39min\u001b[39;00m possibly_batched_index]\n\u001b[1;32m     50\u001b[0m     \u001b[39melse\u001b[39;00m:\n\u001b[1;32m     51\u001b[0m         data \u001b[39m=\u001b[39m \u001b[39mself\u001b[39m\u001b[39m.\u001b[39mdataset[possibly_batched_index]\n",
      "File \u001b[0;32m~/anaconda3/envs/jina/lib/python3.9/site-packages/torch/utils/data/_utils/fetch.py:49\u001b[0m, in \u001b[0;36m<listcomp>\u001b[0;34m(.0)\u001b[0m\n\u001b[1;32m     47\u001b[0m \u001b[39mdef\u001b[39;00m \u001b[39mfetch\u001b[39m(\u001b[39mself\u001b[39m, possibly_batched_index):\n\u001b[1;32m     48\u001b[0m     \u001b[39mif\u001b[39;00m \u001b[39mself\u001b[39m\u001b[39m.\u001b[39mauto_collation:\n\u001b[0;32m---> 49\u001b[0m         data \u001b[39m=\u001b[39m [\u001b[39mself\u001b[39;49m\u001b[39m.\u001b[39;49mdataset[idx] \u001b[39mfor\u001b[39;00m idx \u001b[39min\u001b[39;00m possibly_batched_index]\n\u001b[1;32m     50\u001b[0m     \u001b[39melse\u001b[39;00m:\n\u001b[1;32m     51\u001b[0m         data \u001b[39m=\u001b[39m \u001b[39mself\u001b[39m\u001b[39m.\u001b[39mdataset[possibly_batched_index]\n",
      "\u001b[1;32m/home/aswin/Documents/rsna/rsna-fracture-detect-pytorch-densenet-train.ipynb Cell 31\u001b[0m in \u001b[0;36mRSNADataset.__getitem__\u001b[0;34m(self, index)\u001b[0m\n\u001b[1;32m     <a href='vscode-notebook-cell:/home/aswin/Documents/rsna/rsna-fracture-detect-pytorch-densenet-train.ipynb#X42sZmlsZQ%3D%3D?line=26'>27</a>\u001b[0m study_images \u001b[39m=\u001b[39m [cv2\u001b[39m.\u001b[39mimread(path)[:,:,::\u001b[39m-\u001b[39m\u001b[39m1\u001b[39m] \u001b[39mfor\u001b[39;00m path \u001b[39min\u001b[39;00m study_paths]\n\u001b[1;32m     <a href='vscode-notebook-cell:/home/aswin/Documents/rsna/rsna-fracture-detect-pytorch-densenet-train.ipynb#X42sZmlsZQ%3D%3D?line=27'>28</a>\u001b[0m \u001b[39m# Stack all scans into 1\u001b[39;00m\n\u001b[0;32m---> <a href='vscode-notebook-cell:/home/aswin/Documents/rsna/rsna-fracture-detect-pytorch-densenet-train.ipynb#X42sZmlsZQ%3D%3D?line=28'>29</a>\u001b[0m stacked_image \u001b[39m=\u001b[39m np\u001b[39m.\u001b[39;49mstack([img\u001b[39m.\u001b[39;49mastype(np\u001b[39m.\u001b[39;49mfloat32) \u001b[39mfor\u001b[39;49;00m img \u001b[39min\u001b[39;49;00m study_images], \n\u001b[1;32m     <a href='vscode-notebook-cell:/home/aswin/Documents/rsna/rsna-fracture-detect-pytorch-densenet-train.ipynb#X42sZmlsZQ%3D%3D?line=29'>30</a>\u001b[0m                          axis\u001b[39m=\u001b[39;49m\u001b[39m2\u001b[39;49m)\u001b[39m.\u001b[39mtranspose(\u001b[39m3\u001b[39m,\u001b[39m0\u001b[39m,\u001b[39m1\u001b[39m,\u001b[39m2\u001b[39m)\n\u001b[1;32m     <a href='vscode-notebook-cell:/home/aswin/Documents/rsna/rsna-fracture-detect-pytorch-densenet-train.ipynb#X42sZmlsZQ%3D%3D?line=31'>32</a>\u001b[0m \u001b[39mif\u001b[39;00m \u001b[39mself\u001b[39m\u001b[39m.\u001b[39mtransform:\n\u001b[1;32m     <a href='vscode-notebook-cell:/home/aswin/Documents/rsna/rsna-fracture-detect-pytorch-densenet-train.ipynb#X42sZmlsZQ%3D%3D?line=32'>33</a>\u001b[0m     \u001b[39mif\u001b[39;00m \u001b[39misinstance\u001b[39m(\u001b[39mself\u001b[39m\u001b[39m.\u001b[39mtransform, Randomizable):\n",
      "File \u001b[0;32m<__array_function__ internals>:5\u001b[0m, in \u001b[0;36mstack\u001b[0;34m(*args, **kwargs)\u001b[0m\n",
      "File \u001b[0;32m~/anaconda3/envs/jina/lib/python3.9/site-packages/numpy/core/shape_base.py:423\u001b[0m, in \u001b[0;36mstack\u001b[0;34m(arrays, axis, out)\u001b[0m\n\u001b[1;32m    421\u001b[0m arrays \u001b[39m=\u001b[39m [asanyarray(arr) \u001b[39mfor\u001b[39;00m arr \u001b[39min\u001b[39;00m arrays]\n\u001b[1;32m    422\u001b[0m \u001b[39mif\u001b[39;00m \u001b[39mnot\u001b[39;00m arrays:\n\u001b[0;32m--> 423\u001b[0m     \u001b[39mraise\u001b[39;00m \u001b[39mValueError\u001b[39;00m(\u001b[39m'\u001b[39m\u001b[39mneed at least one array to stack\u001b[39m\u001b[39m'\u001b[39m)\n\u001b[1;32m    425\u001b[0m shapes \u001b[39m=\u001b[39m {arr\u001b[39m.\u001b[39mshape \u001b[39mfor\u001b[39;00m arr \u001b[39min\u001b[39;00m arrays}\n\u001b[1;32m    426\u001b[0m \u001b[39mif\u001b[39;00m \u001b[39mlen\u001b[39m(shapes) \u001b[39m!=\u001b[39m \u001b[39m1\u001b[39m:\n",
      "\u001b[0;31mValueError\u001b[0m: need at least one array to stack"
     ]
    }
   ],
   "source": [
    "# Sample data\n",
    "sample_df = df.head(6)\n",
    "\n",
    "# Instantiate Dataset object\n",
    "dataset = RSNADataset(csv=sample_df, mode=\"train\", transform=train_transforms)\n",
    "# The Dataloader\n",
    "dataloader = DataLoader(dataset, batch_size=3, shuffle=False)\n",
    "\n",
    "# Output of the Dataloader\n",
    "for k, data in enumerate(dataloader):\n",
    "    image, targets = data_to_device(data)\n",
    "    print(clr.S + f\"Batch: {k}\" + clr.E, \"\\n\" +\n",
    "          clr.S + \"Image:\" + clr.E, image.shape, \"\\n\" +\n",
    "          clr.S + \"Targets:\" + clr.E, targets, \"\\n\" +\n",
    "          \"=\"*50)"
   ]
  },
  {
   "cell_type": "code",
   "execution_count": 20,
   "id": "0680e853",
   "metadata": {
    "execution": {
     "iopub.execute_input": "2022-09-08T09:48:01.762764Z",
     "iopub.status.busy": "2022-09-08T09:48:01.762278Z",
     "iopub.status.idle": "2022-09-08T09:48:02.165690Z",
     "shell.execute_reply": "2022-09-08T09:48:02.164825Z"
    },
    "papermill": {
     "duration": 0.424507,
     "end_time": "2022-09-08T09:48:02.167996",
     "exception": false,
     "start_time": "2022-09-08T09:48:01.743489",
     "status": "completed"
    },
    "tags": []
   },
   "outputs": [
    {
     "data": {
      "text/plain": [
       "103"
      ]
     },
     "execution_count": 20,
     "metadata": {},
     "output_type": "execute_result"
    }
   ],
   "source": [
    "del dataset, dataloader, image, targets\n",
    "gc.collect()"
   ]
  },
  {
   "cell_type": "markdown",
   "id": "22459236",
   "metadata": {
    "papermill": {
     "duration": 0.016124,
     "end_time": "2022-09-08T09:48:02.200594",
     "exception": false,
     "start_time": "2022-09-08T09:48:02.184470",
     "status": "completed"
    },
    "tags": []
   },
   "source": [
    "# 4. Loss & Gradual Warmup"
   ]
  },
  {
   "cell_type": "code",
   "execution_count": 21,
   "id": "485c1068",
   "metadata": {
    "execution": {
     "iopub.execute_input": "2022-09-08T09:48:02.235937Z",
     "iopub.status.busy": "2022-09-08T09:48:02.235018Z",
     "iopub.status.idle": "2022-09-08T09:48:02.240461Z",
     "shell.execute_reply": "2022-09-08T09:48:02.239649Z"
    },
    "papermill": {
     "duration": 0.025387,
     "end_time": "2022-09-08T09:48:02.242581",
     "exception": false,
     "start_time": "2022-09-08T09:48:02.217194",
     "status": "completed"
    },
    "tags": []
   },
   "outputs": [],
   "source": [
    "CRITERION = nn.BCEWithLogitsLoss(reduction='none')\n",
    "\n",
    "def get_criterion(logits, target): \n",
    "    loss = CRITERION(logits.view(-1), target.view(-1))\n",
    "    return loss"
   ]
  },
  {
   "cell_type": "markdown",
   "id": "f554f5e4",
   "metadata": {
    "papermill": {
     "duration": 0.016453,
     "end_time": "2022-09-08T09:48:02.275778",
     "exception": false,
     "start_time": "2022-09-08T09:48:02.259325",
     "status": "completed"
    },
    "tags": []
   },
   "source": [
    "### 🦴 What is Gradual Warmup\n",
    "\n",
    "[Warm-up](https://hasty.ai/docs/mp-wiki/scheduler/warm-up) is a way to **reduce the primacy effect for adaptive schedulers** like *Adam* or *AdamW* of the early training examples. It allows them to compute the correct gradients from the beginning on. Without it, you *may need to run a few extra epochs* to get the convergence desired.\n",
    "\n",
    "**Learning Rate**: Using a too large learning rate may result in numerical instability *especially at the very beginning of the training*, where parameters are randomly initialized. The **warmup strategy increases the learning rate from 0 to the initial learning rate linearly** during the initial N epochs or m batches.\n",
    "\n",
    "📍 **Example**:\n",
    "* if we have a total of 5000 epochs\n",
    "* if `Last Epoch` = 1000\n",
    "* and we use Gradual Warmup THEN:\n",
    "    * the first 1000 iterations the model will learn the corpus with **minimal learning rate** than the rate which you've specified in the model\n",
    "    * from the 1001th iteration, **model will use the previously defined base learning rate**"
   ]
  },
  {
   "cell_type": "code",
   "execution_count": 22,
   "id": "67aea87c",
   "metadata": {
    "execution": {
     "iopub.execute_input": "2022-09-08T09:48:02.311279Z",
     "iopub.status.busy": "2022-09-08T09:48:02.310616Z",
     "iopub.status.idle": "2022-09-08T09:48:02.320688Z",
     "shell.execute_reply": "2022-09-08T09:48:02.319482Z"
    },
    "papermill": {
     "duration": 0.030972,
     "end_time": "2022-09-08T09:48:02.323380",
     "exception": false,
     "start_time": "2022-09-08T09:48:02.292408",
     "status": "completed"
    },
    "tags": []
   },
   "outputs": [],
   "source": [
    "class GradualWarmupSchedulerV2(GradualWarmupScheduler):\n",
    "    '''\n",
    "    src: https://www.kaggle.com/code/boliu0/monai-3d-cnn-training/notebook\n",
    "    '''\n",
    "    \n",
    "    def __init__(self, optimizer, multiplier, total_epoch, after_scheduler=None):\n",
    "        super(GradualWarmupSchedulerV2, self).__init__(optimizer, multiplier, \n",
    "                                                       total_epoch, after_scheduler)\n",
    "    \n",
    "    def get_lr(self):\n",
    "        if self.last_epoch > self.total_epoch:\n",
    "            if self.after_scheduler:\n",
    "                if not self.finished:\n",
    "                    self.after_scheduler.base_lrs = [base_lr * self.multiplier \n",
    "                                                     for base_lr in self.base_lrs]\n",
    "                    self.finished = True\n",
    "                return self.after_scheduler.get_lr()\n",
    "            return [base_lr * self.multiplier \n",
    "                    for base_lr in self.base_lrs]\n",
    "        \n",
    "        if self.multiplier == 1.0:\n",
    "            return [base_lr * (float(self.last_epoch) / self.total_epoch) \n",
    "                    for base_lr in self.base_lrs]\n",
    "        else:\n",
    "            return [base_lr * ((self.multiplier - 1.) * self.last_epoch / self.total_epoch + 1.) \n",
    "                    for base_lr in self.base_lrs]"
   ]
  },
  {
   "cell_type": "markdown",
   "id": "d00d548c",
   "metadata": {
    "papermill": {
     "duration": 0.016702,
     "end_time": "2022-09-08T09:48:02.357048",
     "exception": false,
     "start_time": "2022-09-08T09:48:02.340346",
     "status": "completed"
    },
    "tags": []
   },
   "source": [
    "# 5. Training Preparation\n",
    "\n",
    "### Custom File\n",
    "\n",
    "As I won't be doing the actual training of the model in this notebook (due to **out of memory issues**), I am also implementing within the functions an `add_in_file()` custom that will allow me to store all the logs during training and then share them with you here :)."
   ]
  },
  {
   "cell_type": "code",
   "execution_count": 23,
   "id": "ba06a7f0",
   "metadata": {
    "execution": {
     "iopub.execute_input": "2022-09-08T09:48:02.393029Z",
     "iopub.status.busy": "2022-09-08T09:48:02.392631Z",
     "iopub.status.idle": "2022-09-08T09:48:02.398491Z",
     "shell.execute_reply": "2022-09-08T09:48:02.397351Z"
    },
    "papermill": {
     "duration": 0.026498,
     "end_time": "2022-09-08T09:48:02.400706",
     "exception": false,
     "start_time": "2022-09-08T09:48:02.374208",
     "status": "completed"
    },
    "tags": []
   },
   "outputs": [],
   "source": [
    "def add_in_file(text, f):\n",
    "    \n",
    "    with open(f'log_{KERNEL_TYPE}.txt', 'a+') as f:\n",
    "        print(text, file=f)"
   ]
  },
  {
   "cell_type": "markdown",
   "id": "3dda668a",
   "metadata": {
    "papermill": {
     "duration": 0.01656,
     "end_time": "2022-09-08T09:48:02.434567",
     "exception": false,
     "start_time": "2022-09-08T09:48:02.418007",
     "status": "completed"
    },
    "tags": []
   },
   "source": [
    "## 5.1 Train epoch\n",
    "\n",
    "The function below does all the steps for **training** the model for only 1 epoch."
   ]
  },
  {
   "cell_type": "code",
   "execution_count": 24,
   "id": "0df790f2",
   "metadata": {
    "execution": {
     "iopub.execute_input": "2022-09-08T09:48:02.469892Z",
     "iopub.status.busy": "2022-09-08T09:48:02.469087Z",
     "iopub.status.idle": "2022-09-08T09:48:02.481482Z",
     "shell.execute_reply": "2022-09-08T09:48:02.480612Z"
    },
    "papermill": {
     "duration": 0.032277,
     "end_time": "2022-09-08T09:48:02.483658",
     "exception": false,
     "start_time": "2022-09-08T09:48:02.451381",
     "status": "completed"
    },
    "tags": []
   },
   "outputs": [],
   "source": [
    "def train_epoch(model, dataloader, optimizer, epoch, f):\n",
    "    \n",
    "    # Add info to file\n",
    "    print(\"Training...\")\n",
    "    add_in_file('Training...', f)\n",
    "    \n",
    "    # Track training time for 1 epoch\n",
    "    start_time = time()\n",
    "    \n",
    "    # === TRAIN ===\n",
    "    model.train()\n",
    "    train_losses, train_comp_losses = [], []\n",
    "    \n",
    "    # Loop through the data\n",
    "    bar = tqdm(dataloader)\n",
    "    for data in bar:\n",
    "        image, targets = data_to_device(data)\n",
    "        \n",
    "        # Train & Optimize\n",
    "        optimizer.zero_grad()\n",
    "        logits = model(image)\n",
    "        loss = get_criterion(logits, targets)\n",
    "        loss.sum().backward()\n",
    "        optimizer.step()\n",
    "        \n",
    "        # === COMP LOSS ===\n",
    "        comp_loss = get_custom_loss(logits, targets)\n",
    "\n",
    "        # Save losses\n",
    "        train_losses.append(loss.detach().cpu().numpy())\n",
    "        train_comp_losses.append(comp_loss.detach().cpu().numpy().mean())\n",
    "        \n",
    "        gc.collect()\n",
    "\n",
    "    # Compute Overall Loss\n",
    "    mean_train_loss = np.mean(train_losses)\n",
    "    mean_comp_loss = np.mean(train_comp_losses)\n",
    "    \n",
    "    # Save info\n",
    "    total_time = round((time() - start_time)/60, 3)\n",
    "    add_in_file('Train Mean Loss: {}'.format(mean_train_loss), f)\n",
    "    add_in_file('Train Mean Comp Loss: {}'.format(mean_comp_loss), f)\n",
    "    add_in_file('~~~ Train Time: {} mins ~~~'.format(total_time), f)\n",
    "    \n",
    "    # 🐝 Log to W&B\n",
    "    wandb.log({\"train_loss\": mean_train_loss,\n",
    "               \"train_comp_loss\": mean_comp_loss,}, step=epoch)\n",
    "                \n",
    "    # Print info\n",
    "    print(clr.S+\"Train Mean Loss:\"+clr.E, mean_train_loss)\n",
    "    print(clr.S+\"Train Mean Comp Loss:\"+clr.E, mean_comp_loss)\n",
    "    print(clr.S+f\"~~~ Train Time: {total_time} mins ~~~\"+clr.E)\n",
    "    \n",
    "    return mean_train_loss"
   ]
  },
  {
   "cell_type": "markdown",
   "id": "243dd913",
   "metadata": {
    "papermill": {
     "duration": 0.016494,
     "end_time": "2022-09-08T09:48:02.516686",
     "exception": false,
     "start_time": "2022-09-08T09:48:02.500192",
     "status": "completed"
    },
    "tags": []
   },
   "source": [
    "## 5.2 Validation epoch\n",
    "\n",
    "This function does all the steps to **validate** the model for 1 epoch."
   ]
  },
  {
   "cell_type": "code",
   "execution_count": 25,
   "id": "ee3791b0",
   "metadata": {
    "execution": {
     "iopub.execute_input": "2022-09-08T09:48:02.551403Z",
     "iopub.status.busy": "2022-09-08T09:48:02.550984Z",
     "iopub.status.idle": "2022-09-08T09:48:02.564688Z",
     "shell.execute_reply": "2022-09-08T09:48:02.563523Z"
    },
    "papermill": {
     "duration": 0.034107,
     "end_time": "2022-09-08T09:48:02.567013",
     "exception": false,
     "start_time": "2022-09-08T09:48:02.532906",
     "status": "completed"
    },
    "tags": []
   },
   "outputs": [],
   "source": [
    "def valid_epoch(model, dataloader, epoch, f):\n",
    "    \n",
    "    # Add info to file\n",
    "    print(\"Validation...\")\n",
    "    add_in_file('Validation...', f)\n",
    "    \n",
    "    # Track validation time for 1 epoch\n",
    "    start_time = time()\n",
    "    \n",
    "    # === EVAL ===\n",
    "    model.eval()\n",
    "    valid_preds, valid_targets, valid_comp_loss = [], [], []\n",
    "    \n",
    "    with torch.no_grad():\n",
    "        for data in dataloader:\n",
    "            \n",
    "            image, targets = data_to_device(data)\n",
    "            logits = model(image)\n",
    "            \n",
    "            # === COMP LOSS ===\n",
    "            comp_loss = get_custom_loss(logits, targets)\n",
    "            # Save actuals, preds and losses\n",
    "            valid_targets.append(targets.detach().cpu())\n",
    "            valid_preds.append(logits.detach().cpu())\n",
    "            valid_comp_loss.append(comp_loss.detach().cpu().numpy().mean())\n",
    "            \n",
    "            gc.collect()\n",
    "\n",
    "    # Overall Valid Loss\n",
    "    valid_losses = get_criterion(torch.cat(valid_preds), torch.cat(valid_targets)).numpy()\n",
    "    mean_valid_loss = np.mean(valid_losses)\n",
    "    \n",
    "    # Overall Competition Loss\n",
    "    mean_comp_valid_loss = np.mean(valid_comp_loss)\n",
    "    \n",
    "    # Compute Area Under Curve\n",
    "    PREDS = np.concatenate(torch.cat(valid_preds).numpy())\n",
    "    TARGETS = np.concatenate(torch.cat(valid_targets).numpy())\n",
    "    auc = roc_auc_score(TARGETS, PREDS)\n",
    "    \n",
    "    # Save info\n",
    "    total_time = round((time() - start_time)/60, 3)\n",
    "    add_in_file('Valid Mean Loss: {}'.format(mean_valid_loss), f)\n",
    "    add_in_file('Valid Mean Comp Loss: {}'.format(mean_comp_valid_loss), f)\n",
    "    add_in_file('Valid AUC: {}'.format(auc), f)\n",
    "    add_in_file('~~~ Valid Time: {} mins ~~~'.format(total_time), f)\n",
    "    \n",
    "    # 🐝 Log to W&B\n",
    "    wandb.log({\"valid_loss\": mean_valid_loss,\n",
    "               \"valid_comp_loss\": mean_comp_valid_loss,\n",
    "               \"valid_auc\": auc}, step=epoch)\n",
    "        \n",
    "    # Print info\n",
    "    print(clr.S+\"Valid Mean Loss:\"+clr.E, mean_valid_loss)\n",
    "    print(clr.S+\"Valid Mean Comp Loss:\"+clr.E, mean_comp_valid_loss)\n",
    "    print(clr.S+\"Valid AUC:\"+clr.E, auc)\n",
    "    print(clr.S+f\"~~~ Validation Time: {total_time} mins ~~~\"+clr.E)\n",
    "    \n",
    "    return mean_valid_loss"
   ]
  },
  {
   "cell_type": "markdown",
   "id": "dfc1bc77",
   "metadata": {
    "papermill": {
     "duration": 0.015752,
     "end_time": "2022-09-08T09:48:02.599295",
     "exception": false,
     "start_time": "2022-09-08T09:48:02.583543",
     "status": "completed"
    },
    "tags": []
   },
   "source": [
    "## 5.3 Experiment running function\n",
    "\n",
    "This is the main function, where we initiate the Dataset and Dataloaders, the Model, Optimizer and Scheduler and where we train and validate the model, after which we save it.\n",
    "\n",
    "<center><img src=\"https://i.imgur.com/9AoM0Wt.jpg\" width=800></center>"
   ]
  },
  {
   "cell_type": "code",
   "execution_count": 26,
   "id": "210be33c",
   "metadata": {
    "execution": {
     "iopub.execute_input": "2022-09-08T09:48:02.634086Z",
     "iopub.status.busy": "2022-09-08T09:48:02.632981Z",
     "iopub.status.idle": "2022-09-08T09:48:02.648516Z",
     "shell.execute_reply": "2022-09-08T09:48:02.647621Z"
    },
    "papermill": {
     "duration": 0.035496,
     "end_time": "2022-09-08T09:48:02.650972",
     "exception": false,
     "start_time": "2022-09-08T09:48:02.615476",
     "status": "completed"
    },
    "tags": []
   },
   "outputs": [],
   "source": [
    "def run_train(fold):\n",
    "    \n",
    "    # 🐝 W&B Tracking\n",
    "    RUN_CONFIG = CONFIG.copy()\n",
    "    params = dict(model=\"densenet121\", \n",
    "                  epochs=EPOCHS, \n",
    "                  split=N_SPLITS, \n",
    "                  batch=BATCH_SIZE, lr=LR,\n",
    "                  img_size=IMG_RESIZE, stack_size=STACK_RESIZE,\n",
    "                  data_size=DF_SIZE)\n",
    "    RUN_CONFIG.update(params)\n",
    "    run = wandb.init(project='RSNA_SpineFructure', config=CONFIG)\n",
    "    \n",
    "    # Get the train and valid data\n",
    "    train = df[df[\"fold\"] != fold].reset_index(drop=True)\n",
    "    valid = df[df[\"fold\"] == fold].reset_index(drop=True)\n",
    "    \n",
    "    # Create the Dataset & Dataloader\n",
    "    train_dataset = RSNADataset(csv=train, mode=\"train\", \n",
    "                                transform=train_transforms)\n",
    "    valid_dataset = RSNADataset(csv=valid, mode=\"train\", \n",
    "                                transform=valid_transforms)\n",
    "    \n",
    "    trainloader = DataLoader(train_dataset, batch_size=BATCH_SIZE,\n",
    "                             sampler=RandomSampler(train_dataset))\n",
    "    validloader = DataLoader(valid_dataset, batch_size=BATCH_SIZE)\n",
    "    \n",
    "    # Model\n",
    "    model = densenet.densenet121(spatial_dims=3, in_channels=3,\n",
    "                                 out_channels=OUT_DIM)\n",
    "    model.class_layers.out = nn.Sequential(nn.Linear(in_features=1024, out_features=OUT_DIM), \n",
    "                                           nn.Softmax(dim=1))\n",
    "    model.to(DEVICE)\n",
    "    wandb.watch(model, log_freq=100) # 🐝\n",
    "    \n",
    "    # Optimizer & Scheduler\n",
    "    optimizer = optim.Adam(model.parameters(), lr=LR)\n",
    "    scheduler_cosine = lr_scheduler.CosineAnnealingWarmRestarts(optimizer, 2)\n",
    "    scheduler_warmup = GradualWarmupSchedulerV2(optimizer, multiplier=10, \n",
    "                                                total_epoch=1, \n",
    "                                                after_scheduler=scheduler_cosine)\n",
    "    \n",
    "    # Initiate initial loss\n",
    "    valid_loss_BEST = 1000\n",
    "    # Create model name\n",
    "    model_file = f'{KERNEL_TYPE}_best_fold{fold}.pth'\n",
    "    # Create file to save outputs\n",
    "    f = open(f'log_{KERNEL_TYPE}.txt', 'a')\n",
    "    \n",
    "    \n",
    "    for epoch in range(EPOCHS):\n",
    "        \n",
    "        add_in_file('======== Epoch: {}/{} ========'.format(epoch+1, EPOCHS), f)\n",
    "        print(\"=\"*8, clr.S+f\"Epoch {epoch}\"+clr.E, \"=\"*8)\n",
    "        \n",
    "        scheduler_warmup.step(epoch-1)\n",
    "        \n",
    "        # Train & Validate\n",
    "        mean_train_loss = train_epoch(model, trainloader, optimizer, epoch, f)\n",
    "        mean_valid_loss = valid_epoch(model, validloader, epoch, f)\n",
    "        \n",
    "        # Save model\n",
    "        if mean_valid_loss < valid_loss_BEST:\n",
    "            print('Saving model ...')\n",
    "            add_in_file('Saving model => {}'.format(model_file), f)\n",
    "            torch.save(model.state_dict(), model_file)\n",
    "            valid_loss_BEST = mean_valid_loss\n",
    "            \n",
    "    torch.cuda.empty_cache()\n",
    "    gc.collect()\n",
    "    \n",
    "    # 🐝 Experiment End\n",
    "    wandb.finish()"
   ]
  },
  {
   "cell_type": "markdown",
   "id": "7464eed2",
   "metadata": {
    "papermill": {
     "duration": 0.015763,
     "end_time": "2022-09-08T09:48:02.682891",
     "exception": false,
     "start_time": "2022-09-08T09:48:02.667128",
     "status": "completed"
    },
    "tags": []
   },
   "source": [
    "# 6. Training ... 🏃‍♂️"
   ]
  },
  {
   "cell_type": "code",
   "execution_count": 27,
   "id": "06a0753c",
   "metadata": {
    "execution": {
     "iopub.execute_input": "2022-09-08T09:48:02.717077Z",
     "iopub.status.busy": "2022-09-08T09:48:02.716337Z",
     "iopub.status.idle": "2022-09-08T09:48:02.720137Z",
     "shell.execute_reply": "2022-09-08T09:48:02.719390Z"
    },
    "papermill": {
     "duration": 0.023408,
     "end_time": "2022-09-08T09:48:02.722319",
     "exception": false,
     "start_time": "2022-09-08T09:48:02.698911",
     "status": "completed"
    },
    "tags": []
   },
   "outputs": [],
   "source": [
    "# Line commented due to out of memory issue\n",
    "# run_train(fold=0)"
   ]
  },
  {
   "cell_type": "markdown",
   "id": "84e490e6",
   "metadata": {
    "papermill": {
     "duration": 0.016408,
     "end_time": "2022-09-08T09:48:02.755423",
     "exception": false,
     "start_time": "2022-09-08T09:48:02.739015",
     "status": "completed"
    },
    "tags": []
   },
   "source": [
    "🐝 Below are some of my experiments and logs (trained on just a couple of epochs - as tests - vs 5 epochs)\n",
    "<center><img src=\"https://i.imgur.com/f1OevsB.jpg\" width=900></center>"
   ]
  },
  {
   "cell_type": "code",
   "execution_count": 28,
   "id": "c1cb4cbc",
   "metadata": {
    "execution": {
     "iopub.execute_input": "2022-09-08T09:48:02.790200Z",
     "iopub.status.busy": "2022-09-08T09:48:02.789472Z",
     "iopub.status.idle": "2022-09-08T09:48:02.802553Z",
     "shell.execute_reply": "2022-09-08T09:48:02.801599Z"
    },
    "papermill": {
     "duration": 0.03412,
     "end_time": "2022-09-08T09:48:02.805746",
     "exception": false,
     "start_time": "2022-09-08T09:48:02.771626",
     "status": "completed"
    },
    "tags": []
   },
   "outputs": [
    {
     "name": "stdout",
     "output_type": "stream",
     "text": [
      "======== Epoch: 1/5 ========\n",
      "Training...\n",
      "Train Mean Loss: 0.7649327516555786\n",
      "Train Mean Comp Loss: 7.0600905418396\n",
      "~~~ Train Time: 79.658 mins ~~~\n",
      "Validation...\n",
      "Valid Mean Loss: 0.7653019428253174\n",
      "Valid Mean Comp Loss: 7.475622177124023\n",
      "Valid AUC: 0.3732621918620567\n",
      "~~~ Valid Time: 19.849 mins ~~~\n",
      "Saving model => densenet121_baseline_best_fold0.pth\n",
      "======== Epoch: 2/5 ========\n",
      "Training...\n",
      "Train Mean Loss: 0.7656784057617188\n",
      "Train Mean Comp Loss: 7.427681922912598\n",
      "~~~ Train Time: 81.117 mins ~~~\n",
      "Validation...\n",
      "Valid Mean Loss: 0.7656744718551636\n",
      "Valid Mean Comp Loss: 7.818461894989014\n",
      "Valid AUC: 0.3647924033527289\n",
      "~~~ Valid Time: 19.629 mins ~~~\n",
      "======== Epoch: 3/5 ========\n",
      "Training...\n",
      "Train Mean Loss: 0.7657021880149841\n",
      "Train Mean Comp Loss: 7.368119716644287\n",
      "~~~ Train Time: 80.622 mins ~~~\n",
      "Validation...\n",
      "Valid Mean Loss: 0.7655552625656128\n",
      "Valid Mean Comp Loss: 7.5486063957214355\n",
      "Valid AUC: 0.38416925320413414\n",
      "~~~ Valid Time: 19.511 mins ~~~\n",
      "======== Epoch: 4/5 ========\n",
      "Training...\n",
      "Train Mean Loss: 0.7661682963371277\n",
      "Train Mean Comp Loss: 7.413726329803467\n",
      "~~~ Train Time: 79.988 mins ~~~\n",
      "Validation...\n",
      "Valid Mean Loss: 0.7657110095024109\n",
      "Valid Mean Comp Loss: 7.883738994598389\n",
      "Valid AUC: 0.3586768505339023\n",
      "~~~ Valid Time: 19.638 mins ~~~\n",
      "======== Epoch: 5/5 ========\n",
      "Training...\n",
      "Train Mean Loss: 0.766252338886261\n",
      "Train Mean Comp Loss: 7.496771335601807\n",
      "~~~ Train Time: 80.186 mins ~~~\n",
      "Validation...\n",
      "Valid Mean Loss: 0.7657110095024109\n",
      "Valid Mean Comp Loss: 7.8228888511657715\n",
      "Valid AUC: 0.3571226530632364\n",
      "~~~ Valid Time: 19.558 mins ~~~\n",
      "======== Epoch: 1/5 ========\n",
      "Training...\n",
      "======== Epoch: 1/5 ========\n",
      "Training...\n",
      "======== Epoch: 1/15 ========\n",
      "Training...\n",
      "Train Mean Loss: 0.7577486038208008\n",
      "Train Mean Comp Loss: 6.4901957511901855\n",
      "~~~ Train Time: 53.08 mins ~~~\n",
      "Validation...\n",
      "Valid Mean Loss: 0.7532177567481995\n",
      "Valid Mean Comp Loss: 6.745697498321533\n",
      "Valid AUC: 0.4270740569230221\n",
      "~~~ Valid Time: 12.104 mins ~~~\n",
      "Saving model => densenet121_baseline_best_fold0.pth\n",
      "======== Epoch: 2/15 ========\n",
      "Training...\n",
      "Train Mean Loss: 0.764129102230072\n",
      "Train Mean Comp Loss: 7.469415664672852\n",
      "~~~ Train Time: 47.998 mins ~~~\n",
      "Validation...\n",
      "Valid Mean Loss: 0.7587972283363342\n",
      "Valid Mean Comp Loss: 7.0400590896606445\n",
      "Valid AUC: 0.33532108253481996\n",
      "~~~ Valid Time: 12.011 mins ~~~\n",
      "======== Epoch: 3/15 ========\n",
      "Training...\n",
      "Train Mean Loss: 0.7560068368911743\n",
      "Train Mean Comp Loss: 7.135193347930908\n",
      "~~~ Train Time: 47.725 mins ~~~\n",
      "Validation...\n",
      "Valid Mean Loss: 0.754715085029602\n",
      "Valid Mean Comp Loss: 7.073738098144531\n",
      "Valid AUC: 0.45296748655291563\n",
      "~~~ Valid Time: 11.888 mins ~~~\n",
      "======== Epoch: 4/15 ========\n",
      "Training...\n",
      "Train Mean Loss: 0.751834511756897\n",
      "Train Mean Comp Loss: 7.485556125640869\n",
      "~~~ Train Time: 47.638 mins ~~~\n",
      "Validation...\n",
      "Valid Mean Loss: 0.7547151446342468\n",
      "Valid Mean Comp Loss: 7.162188529968262\n",
      "Valid AUC: 0.49651355394863395\n",
      "~~~ Valid Time: 11.956 mins ~~~\n",
      "======== Epoch: 5/15 ========\n",
      "Training...\n",
      "Train Mean Loss: 0.7517064213752747\n",
      "Train Mean Comp Loss: 7.468924522399902\n",
      "~~~ Train Time: 47.545 mins ~~~\n",
      "Validation...\n",
      "Valid Mean Loss: 0.7547151446342468\n",
      "Valid Mean Comp Loss: 7.161872863769531\n",
      "Valid AUC: 0.493472375592206\n",
      "~~~ Valid Time: 11.867 mins ~~~\n",
      "======== Epoch: 6/15 ========\n",
      "Training...\n",
      "Train Mean Loss: 0.7515783309936523\n",
      "Train Mean Comp Loss: 7.453468322753906\n",
      "~~~ Train Time: 47.524 mins ~~~\n",
      "Validation...\n",
      "Valid Mean Loss: 0.7547151446342468\n",
      "Valid Mean Comp Loss: 7.1621785163879395\n",
      "Valid AUC: 0.49477478359990024\n",
      "~~~ Valid Time: 11.908 mins ~~~\n",
      "======== Epoch: 7/15 ========\n",
      "Training...\n",
      "Train Mean Loss: 0.7514503002166748\n",
      "Train Mean Comp Loss: 7.497992038726807\n",
      "~~~ Train Time: 47.76 mins ~~~\n",
      "Validation...\n",
      "Valid Mean Loss: 0.7547151446342468\n",
      "Valid Mean Comp Loss: 7.127233982086182\n",
      "Valid AUC: 0.4948348947387169\n",
      "~~~ Valid Time: 11.89 mins ~~~\n",
      "======== Epoch: 8/15 ========\n",
      "Training...\n",
      "Train Mean Loss: 0.7517064213752747\n",
      "Train Mean Comp Loss: 7.444027423858643\n",
      "~~~ Train Time: 47.556 mins ~~~\n",
      "Validation...\n",
      "Valid Mean Loss: 0.7547151446342468\n",
      "Valid Mean Comp Loss: 7.15805721282959\n",
      "Valid AUC: 0.4942126331350408\n",
      "~~~ Valid Time: 11.901 mins ~~~\n",
      "======== Epoch: 9/15 ========\n",
      "Training...\n",
      "Train Mean Loss: 0.7515783309936523\n",
      "Train Mean Comp Loss: 7.455939769744873\n",
      "~~~ Train Time: 47.556 mins ~~~\n",
      "Validation...\n",
      "Valid Mean Loss: 0.7547151446342468\n",
      "Valid Mean Comp Loss: 7.161703586578369\n",
      "Valid AUC: 0.4958167100060556\n",
      "~~~ Valid Time: 11.88 mins ~~~\n",
      "======== Epoch: 10/15 ========\n",
      "Training...\n",
      "Train Mean Loss: 0.751834511756897\n",
      "Train Mean Comp Loss: 7.459211826324463\n",
      "~~~ Train Time: 47.719 mins ~~~\n",
      "Validation...\n",
      "Valid Mean Loss: 0.7547151446342468\n",
      "Valid Mean Comp Loss: 7.160540580749512\n",
      "Valid AUC: 0.49533025504933564\n",
      "~~~ Valid Time: 11.917 mins ~~~\n",
      "======== Epoch: 11/15 ========\n",
      "Training...\n",
      "Train Mean Loss: 0.7517064213752747\n",
      "Train Mean Comp Loss: 7.457335948944092\n",
      "~~~ Train Time: 47.771 mins ~~~\n",
      "Validation...\n",
      "Valid Mean Loss: 0.7547151446342468\n",
      "Valid Mean Comp Loss: 7.162188529968262\n",
      "Valid AUC: 0.48743009297189477\n",
      "~~~ Valid Time: 12.024 mins ~~~\n",
      "======== Epoch: 12/15 ========\n",
      "Training...\n",
      "Train Mean Loss: 0.7515783309936523\n",
      "Train Mean Comp Loss: 7.485462665557861\n",
      "~~~ Train Time: 47.721 mins ~~~\n",
      "Validation...\n",
      "Valid Mean Loss: 0.7547151446342468\n",
      "Valid Mean Comp Loss: 7.1621785163879395\n",
      "Valid AUC: 0.49108351440886266\n",
      "~~~ Valid Time: 11.897 mins ~~~\n",
      "======== Epoch: 13/15 ========\n",
      "Training...\n",
      "Train Mean Loss: 0.7517064213752747\n",
      "Train Mean Comp Loss: 7.453974723815918\n",
      "~~~ Train Time: 47.554 mins ~~~\n",
      "Validation...\n",
      "Valid Mean Loss: 0.7547151446342468\n",
      "Valid Mean Comp Loss: 7.160552024841309\n",
      "Valid AUC: 0.4909388024080077\n",
      "~~~ Valid Time: 11.878 mins ~~~\n",
      "======== Epoch: 14/15 ========\n",
      "Training...\n",
      "Train Mean Loss: 0.7517064213752747\n",
      "Train Mean Comp Loss: 7.45631217956543\n",
      "~~~ Train Time: 47.578 mins ~~~\n",
      "Validation...\n",
      "Valid Mean Loss: 0.7547151446342468\n",
      "Valid Mean Comp Loss: 7.162082672119141\n",
      "Valid AUC: 0.49206421650696397\n",
      "~~~ Valid Time: 12.088 mins ~~~\n",
      "======== Epoch: 15/15 ========\n",
      "Training...\n",
      "Train Mean Loss: 0.7517064213752747\n",
      "Train Mean Comp Loss: 7.504801273345947\n",
      "~~~ Train Time: 47.674 mins ~~~\n",
      "Validation...\n",
      "Valid Mean Loss: 0.7547151446342468\n",
      "Valid Mean Comp Loss: 7.162128448486328\n",
      "Valid AUC: 0.49057145655968376\n",
      "~~~ Valid Time: 11.873 mins ~~~\n",
      "\n"
     ]
    }
   ],
   "source": [
    "# Print the output of the run (done on local machine)\n",
    "f = open('../input/rsna-fracture-detection/log_densenet121_baseline.txt', 'r')\n",
    "print(f.read())\n",
    "f.close()"
   ]
  },
  {
   "cell_type": "code",
   "execution_count": 29,
   "id": "1f0d9951",
   "metadata": {
    "execution": {
     "iopub.execute_input": "2022-09-08T09:48:02.840750Z",
     "iopub.status.busy": "2022-09-08T09:48:02.840348Z",
     "iopub.status.idle": "2022-09-08T09:48:35.610804Z",
     "shell.execute_reply": "2022-09-08T09:48:35.608874Z"
    },
    "papermill": {
     "duration": 32.791029,
     "end_time": "2022-09-08T09:48:35.613662",
     "exception": false,
     "start_time": "2022-09-08T09:48:02.822633",
     "status": "completed"
    },
    "tags": []
   },
   "outputs": [
    {
     "name": "stdout",
     "output_type": "stream",
     "text": [
      "Artifact has been saved successfully.\n",
      "Artifact has been saved successfully.\n"
     ]
    }
   ],
   "source": [
    "# 🐝 Save Artifacts\n",
    "save_dataset_artifact(run_name=\"save_logs\", artifact_name=\"logs\",\n",
    "                      path=\"../input/rsna-fracture-detection/log_densenet121_baseline.txt\", data_type=\"dataset\")\n",
    "save_dataset_artifact(run_name=\"save_model\", artifact_name=\"model\",\n",
    "                      path=\"../input/rsna-fracture-detection/densenet121_baseline_best_fold0.pth\", data_type=\"model\")"
   ]
  },
  {
   "cell_type": "markdown",
   "id": "1567f62c",
   "metadata": {
    "papermill": {
     "duration": 0.016681,
     "end_time": "2022-09-08T09:48:35.647727",
     "exception": false,
     "start_time": "2022-09-08T09:48:35.631046",
     "status": "completed"
    },
    "tags": []
   },
   "source": [
    "<center><img src=\"https://i.imgur.com/0cx4xXI.png\"></center>\n",
    "\n",
    "### 🐝 W&B Dashboard\n",
    "\n",
    "> My [W&B Dashboard](https://wandb.ai/andrada/RSNA_SpineFructure?workspace=user-andrada) - updated with training logs.\n",
    "\n",
    "<center><video src=\"https://i.imgur.com/5WOgE7W.mp4\" width=800 controls></center>\n",
    "\n",
    "<center><img src=\"https://i.imgur.com/knxTRkO.png\"></center>\n",
    "\n",
    "### My Specs\n",
    "\n",
    "* 🖥 Z8 G4 Workstation\n",
    "* 💾 2 CPUs & 96GB Memory\n",
    "* 🎮 2x NVIDIA A6000\n",
    "* 💻 Zbook Studio G7 on the go"
   ]
  }
 ],
 "metadata": {
  "kernelspec": {
   "display_name": "Python 3.9.12 ('jina')",
   "language": "python",
   "name": "python3"
  },
  "language_info": {
   "codemirror_mode": {
    "name": "ipython",
    "version": 3
   },
   "file_extension": ".py",
   "mimetype": "text/x-python",
   "name": "python",
   "nbconvert_exporter": "python",
   "pygments_lexer": "ipython3",
   "version": "3.9.12"
  },
  "papermill": {
   "default_parameters": {},
   "duration": 233.045476,
   "end_time": "2022-09-08T09:48:38.288079",
   "environment_variables": {},
   "exception": null,
   "input_path": "__notebook__.ipynb",
   "output_path": "__notebook__.ipynb",
   "parameters": {},
   "start_time": "2022-09-08T09:44:45.242603",
   "version": "2.3.4"
  },
  "vscode": {
   "interpreter": {
    "hash": "062bb9b1ec01e9916229ee1a912381cbb5ea025b7159b710942000cb49f72727"
   }
  },
  "widgets": {
   "application/vnd.jupyter.widget-state+json": {
    "state": {
     "0dbf76f0964b45d8a62f7f1329a40620": {
      "model_module": "@jupyter-widgets/controls",
      "model_module_version": "1.5.0",
      "model_name": "VBoxModel",
      "state": {
       "_dom_classes": [],
       "_model_module": "@jupyter-widgets/controls",
       "_model_module_version": "1.5.0",
       "_model_name": "VBoxModel",
       "_view_count": null,
       "_view_module": "@jupyter-widgets/controls",
       "_view_module_version": "1.5.0",
       "_view_name": "VBoxView",
       "box_style": "",
       "children": [
        "IPY_MODEL_78dac6f49b064f838f40d5861c78ce1c",
        "IPY_MODEL_c29a032c0fd742298b5f550940b7dcf9"
       ],
       "layout": "IPY_MODEL_61bdea2b41094d9abf1bc56ee8450cc2"
      }
     },
     "163306805ac94ce99086ec9f416d7919": {
      "model_module": "@jupyter-widgets/controls",
      "model_module_version": "1.5.0",
      "model_name": "LabelModel",
      "state": {
       "_dom_classes": [],
       "_model_module": "@jupyter-widgets/controls",
       "_model_module_version": "1.5.0",
       "_model_name": "LabelModel",
       "_view_count": null,
       "_view_module": "@jupyter-widgets/controls",
       "_view_module_version": "1.5.0",
       "_view_name": "LabelView",
       "description": "",
       "description_tooltip": null,
       "layout": "IPY_MODEL_76108acd40f148ef8c34415692400c96",
       "placeholder": "​",
       "style": "IPY_MODEL_ec43b8f06fa4493197a452a73b60218c",
       "value": "0.121 MB of 0.121 MB uploaded (0.000 MB deduped)\r"
      }
     },
     "1961e644bfd44307bff636048e3d2d9e": {
      "model_module": "@jupyter-widgets/base",
      "model_module_version": "1.2.0",
      "model_name": "LayoutModel",
      "state": {
       "_model_module": "@jupyter-widgets/base",
       "_model_module_version": "1.2.0",
       "_model_name": "LayoutModel",
       "_view_count": null,
       "_view_module": "@jupyter-widgets/base",
       "_view_module_version": "1.2.0",
       "_view_name": "LayoutView",
       "align_content": null,
       "align_items": null,
       "align_self": null,
       "border": null,
       "bottom": null,
       "display": null,
       "flex": null,
       "flex_flow": null,
       "grid_area": null,
       "grid_auto_columns": null,
       "grid_auto_flow": null,
       "grid_auto_rows": null,
       "grid_column": null,
       "grid_gap": null,
       "grid_row": null,
       "grid_template_areas": null,
       "grid_template_columns": null,
       "grid_template_rows": null,
       "height": null,
       "justify_content": null,
       "justify_items": null,
       "left": null,
       "margin": null,
       "max_height": null,
       "max_width": null,
       "min_height": null,
       "min_width": null,
       "object_fit": null,
       "object_position": null,
       "order": null,
       "overflow": null,
       "overflow_x": null,
       "overflow_y": null,
       "padding": null,
       "right": null,
       "top": null,
       "visibility": null,
       "width": null
      }
     },
     "1abe813860d74eb09eb64472dd778546": {
      "model_module": "@jupyter-widgets/controls",
      "model_module_version": "1.5.0",
      "model_name": "DescriptionStyleModel",
      "state": {
       "_model_module": "@jupyter-widgets/controls",
       "_model_module_version": "1.5.0",
       "_model_name": "DescriptionStyleModel",
       "_view_count": null,
       "_view_module": "@jupyter-widgets/base",
       "_view_module_version": "1.2.0",
       "_view_name": "StyleView",
       "description_width": ""
      }
     },
     "26ffa0d63fc94fe587c1a19e392205b7": {
      "model_module": "@jupyter-widgets/controls",
      "model_module_version": "1.5.0",
      "model_name": "FloatProgressModel",
      "state": {
       "_dom_classes": [],
       "_model_module": "@jupyter-widgets/controls",
       "_model_module_version": "1.5.0",
       "_model_name": "FloatProgressModel",
       "_view_count": null,
       "_view_module": "@jupyter-widgets/controls",
       "_view_module_version": "1.5.0",
       "_view_name": "ProgressView",
       "bar_style": "",
       "description": "",
       "description_tooltip": null,
       "layout": "IPY_MODEL_1961e644bfd44307bff636048e3d2d9e",
       "max": 1,
       "min": 0,
       "orientation": "horizontal",
       "style": "IPY_MODEL_eb67a17073084a27a8d12ffcf715c3e9",
       "value": 1
      }
     },
     "376ac64a02624d938360831557a4e092": {
      "model_module": "@jupyter-widgets/base",
      "model_module_version": "1.2.0",
      "model_name": "LayoutModel",
      "state": {
       "_model_module": "@jupyter-widgets/base",
       "_model_module_version": "1.2.0",
       "_model_name": "LayoutModel",
       "_view_count": null,
       "_view_module": "@jupyter-widgets/base",
       "_view_module_version": "1.2.0",
       "_view_name": "LayoutView",
       "align_content": null,
       "align_items": null,
       "align_self": null,
       "border": null,
       "bottom": null,
       "display": null,
       "flex": null,
       "flex_flow": null,
       "grid_area": null,
       "grid_auto_columns": null,
       "grid_auto_flow": null,
       "grid_auto_rows": null,
       "grid_column": null,
       "grid_gap": null,
       "grid_row": null,
       "grid_template_areas": null,
       "grid_template_columns": null,
       "grid_template_rows": null,
       "height": null,
       "justify_content": null,
       "justify_items": null,
       "left": null,
       "margin": null,
       "max_height": null,
       "max_width": null,
       "min_height": null,
       "min_width": null,
       "object_fit": null,
       "object_position": null,
       "order": null,
       "overflow": null,
       "overflow_x": null,
       "overflow_y": null,
       "padding": null,
       "right": null,
       "top": null,
       "visibility": null,
       "width": null
      }
     },
     "3d666dc610024187af85b8bbf3fb518b": {
      "model_module": "@jupyter-widgets/controls",
      "model_module_version": "1.5.0",
      "model_name": "VBoxModel",
      "state": {
       "_dom_classes": [],
       "_model_module": "@jupyter-widgets/controls",
       "_model_module_version": "1.5.0",
       "_model_name": "VBoxModel",
       "_view_count": null,
       "_view_module": "@jupyter-widgets/controls",
       "_view_module_version": "1.5.0",
       "_view_name": "VBoxView",
       "box_style": "",
       "children": [
        "IPY_MODEL_163306805ac94ce99086ec9f416d7919",
        "IPY_MODEL_26ffa0d63fc94fe587c1a19e392205b7"
       ],
       "layout": "IPY_MODEL_376ac64a02624d938360831557a4e092"
      }
     },
     "4289120eb2444e3d89e175a33fdb6c03": {
      "model_module": "@jupyter-widgets/controls",
      "model_module_version": "1.5.0",
      "model_name": "DescriptionStyleModel",
      "state": {
       "_model_module": "@jupyter-widgets/controls",
       "_model_module_version": "1.5.0",
       "_model_name": "DescriptionStyleModel",
       "_view_count": null,
       "_view_module": "@jupyter-widgets/base",
       "_view_module_version": "1.2.0",
       "_view_name": "StyleView",
       "description_width": ""
      }
     },
     "597e601e99434272b0abf9795baba81b": {
      "model_module": "@jupyter-widgets/controls",
      "model_module_version": "1.5.0",
      "model_name": "ProgressStyleModel",
      "state": {
       "_model_module": "@jupyter-widgets/controls",
       "_model_module_version": "1.5.0",
       "_model_name": "ProgressStyleModel",
       "_view_count": null,
       "_view_module": "@jupyter-widgets/base",
       "_view_module_version": "1.2.0",
       "_view_name": "StyleView",
       "bar_color": null,
       "description_width": ""
      }
     },
     "61bdea2b41094d9abf1bc56ee8450cc2": {
      "model_module": "@jupyter-widgets/base",
      "model_module_version": "1.2.0",
      "model_name": "LayoutModel",
      "state": {
       "_model_module": "@jupyter-widgets/base",
       "_model_module_version": "1.2.0",
       "_model_name": "LayoutModel",
       "_view_count": null,
       "_view_module": "@jupyter-widgets/base",
       "_view_module_version": "1.2.0",
       "_view_name": "LayoutView",
       "align_content": null,
       "align_items": null,
       "align_self": null,
       "border": null,
       "bottom": null,
       "display": null,
       "flex": null,
       "flex_flow": null,
       "grid_area": null,
       "grid_auto_columns": null,
       "grid_auto_flow": null,
       "grid_auto_rows": null,
       "grid_column": null,
       "grid_gap": null,
       "grid_row": null,
       "grid_template_areas": null,
       "grid_template_columns": null,
       "grid_template_rows": null,
       "height": null,
       "justify_content": null,
       "justify_items": null,
       "left": null,
       "margin": null,
       "max_height": null,
       "max_width": null,
       "min_height": null,
       "min_width": null,
       "object_fit": null,
       "object_position": null,
       "order": null,
       "overflow": null,
       "overflow_x": null,
       "overflow_y": null,
       "padding": null,
       "right": null,
       "top": null,
       "visibility": null,
       "width": null
      }
     },
     "6a4581e262e74c2db1a4d0d17d5ad314": {
      "model_module": "@jupyter-widgets/base",
      "model_module_version": "1.2.0",
      "model_name": "LayoutModel",
      "state": {
       "_model_module": "@jupyter-widgets/base",
       "_model_module_version": "1.2.0",
       "_model_name": "LayoutModel",
       "_view_count": null,
       "_view_module": "@jupyter-widgets/base",
       "_view_module_version": "1.2.0",
       "_view_name": "LayoutView",
       "align_content": null,
       "align_items": null,
       "align_self": null,
       "border": null,
       "bottom": null,
       "display": null,
       "flex": null,
       "flex_flow": null,
       "grid_area": null,
       "grid_auto_columns": null,
       "grid_auto_flow": null,
       "grid_auto_rows": null,
       "grid_column": null,
       "grid_gap": null,
       "grid_row": null,
       "grid_template_areas": null,
       "grid_template_columns": null,
       "grid_template_rows": null,
       "height": null,
       "justify_content": null,
       "justify_items": null,
       "left": null,
       "margin": null,
       "max_height": null,
       "max_width": null,
       "min_height": null,
       "min_width": null,
       "object_fit": null,
       "object_position": null,
       "order": null,
       "overflow": null,
       "overflow_x": null,
       "overflow_y": null,
       "padding": null,
       "right": null,
       "top": null,
       "visibility": null,
       "width": null
      }
     },
     "6f27134e371743d4b393e6bc72094c95": {
      "model_module": "@jupyter-widgets/base",
      "model_module_version": "1.2.0",
      "model_name": "LayoutModel",
      "state": {
       "_model_module": "@jupyter-widgets/base",
       "_model_module_version": "1.2.0",
       "_model_name": "LayoutModel",
       "_view_count": null,
       "_view_module": "@jupyter-widgets/base",
       "_view_module_version": "1.2.0",
       "_view_name": "LayoutView",
       "align_content": null,
       "align_items": null,
       "align_self": null,
       "border": null,
       "bottom": null,
       "display": null,
       "flex": null,
       "flex_flow": null,
       "grid_area": null,
       "grid_auto_columns": null,
       "grid_auto_flow": null,
       "grid_auto_rows": null,
       "grid_column": null,
       "grid_gap": null,
       "grid_row": null,
       "grid_template_areas": null,
       "grid_template_columns": null,
       "grid_template_rows": null,
       "height": null,
       "justify_content": null,
       "justify_items": null,
       "left": null,
       "margin": null,
       "max_height": null,
       "max_width": null,
       "min_height": null,
       "min_width": null,
       "object_fit": null,
       "object_position": null,
       "order": null,
       "overflow": null,
       "overflow_x": null,
       "overflow_y": null,
       "padding": null,
       "right": null,
       "top": null,
       "visibility": null,
       "width": null
      }
     },
     "76108acd40f148ef8c34415692400c96": {
      "model_module": "@jupyter-widgets/base",
      "model_module_version": "1.2.0",
      "model_name": "LayoutModel",
      "state": {
       "_model_module": "@jupyter-widgets/base",
       "_model_module_version": "1.2.0",
       "_model_name": "LayoutModel",
       "_view_count": null,
       "_view_module": "@jupyter-widgets/base",
       "_view_module_version": "1.2.0",
       "_view_name": "LayoutView",
       "align_content": null,
       "align_items": null,
       "align_self": null,
       "border": null,
       "bottom": null,
       "display": null,
       "flex": null,
       "flex_flow": null,
       "grid_area": null,
       "grid_auto_columns": null,
       "grid_auto_flow": null,
       "grid_auto_rows": null,
       "grid_column": null,
       "grid_gap": null,
       "grid_row": null,
       "grid_template_areas": null,
       "grid_template_columns": null,
       "grid_template_rows": null,
       "height": null,
       "justify_content": null,
       "justify_items": null,
       "left": null,
       "margin": null,
       "max_height": null,
       "max_width": null,
       "min_height": null,
       "min_width": null,
       "object_fit": null,
       "object_position": null,
       "order": null,
       "overflow": null,
       "overflow_x": null,
       "overflow_y": null,
       "padding": null,
       "right": null,
       "top": null,
       "visibility": null,
       "width": null
      }
     },
     "78dac6f49b064f838f40d5861c78ce1c": {
      "model_module": "@jupyter-widgets/controls",
      "model_module_version": "1.5.0",
      "model_name": "LabelModel",
      "state": {
       "_dom_classes": [],
       "_model_module": "@jupyter-widgets/controls",
       "_model_module_version": "1.5.0",
       "_model_name": "LabelModel",
       "_view_count": null,
       "_view_module": "@jupyter-widgets/controls",
       "_view_module_version": "1.5.0",
       "_view_name": "LabelView",
       "description": "",
       "description_tooltip": null,
       "layout": "IPY_MODEL_6a4581e262e74c2db1a4d0d17d5ad314",
       "placeholder": "​",
       "style": "IPY_MODEL_4289120eb2444e3d89e175a33fdb6c03",
       "value": "0.121 MB of 0.121 MB uploaded (0.000 MB deduped)\r"
      }
     },
     "7babb6f819af44dfb1cc6b800acee1b2": {
      "model_module": "@jupyter-widgets/base",
      "model_module_version": "1.2.0",
      "model_name": "LayoutModel",
      "state": {
       "_model_module": "@jupyter-widgets/base",
       "_model_module_version": "1.2.0",
       "_model_name": "LayoutModel",
       "_view_count": null,
       "_view_module": "@jupyter-widgets/base",
       "_view_module_version": "1.2.0",
       "_view_name": "LayoutView",
       "align_content": null,
       "align_items": null,
       "align_self": null,
       "border": null,
       "bottom": null,
       "display": null,
       "flex": null,
       "flex_flow": null,
       "grid_area": null,
       "grid_auto_columns": null,
       "grid_auto_flow": null,
       "grid_auto_rows": null,
       "grid_column": null,
       "grid_gap": null,
       "grid_row": null,
       "grid_template_areas": null,
       "grid_template_columns": null,
       "grid_template_rows": null,
       "height": null,
       "justify_content": null,
       "justify_items": null,
       "left": null,
       "margin": null,
       "max_height": null,
       "max_width": null,
       "min_height": null,
       "min_width": null,
       "object_fit": null,
       "object_position": null,
       "order": null,
       "overflow": null,
       "overflow_x": null,
       "overflow_y": null,
       "padding": null,
       "right": null,
       "top": null,
       "visibility": null,
       "width": null
      }
     },
     "a2f094741984480c88d8afdb1c671d79": {
      "model_module": "@jupyter-widgets/base",
      "model_module_version": "1.2.0",
      "model_name": "LayoutModel",
      "state": {
       "_model_module": "@jupyter-widgets/base",
       "_model_module_version": "1.2.0",
       "_model_name": "LayoutModel",
       "_view_count": null,
       "_view_module": "@jupyter-widgets/base",
       "_view_module_version": "1.2.0",
       "_view_name": "LayoutView",
       "align_content": null,
       "align_items": null,
       "align_self": null,
       "border": null,
       "bottom": null,
       "display": null,
       "flex": null,
       "flex_flow": null,
       "grid_area": null,
       "grid_auto_columns": null,
       "grid_auto_flow": null,
       "grid_auto_rows": null,
       "grid_column": null,
       "grid_gap": null,
       "grid_row": null,
       "grid_template_areas": null,
       "grid_template_columns": null,
       "grid_template_rows": null,
       "height": null,
       "justify_content": null,
       "justify_items": null,
       "left": null,
       "margin": null,
       "max_height": null,
       "max_width": null,
       "min_height": null,
       "min_width": null,
       "object_fit": null,
       "object_position": null,
       "order": null,
       "overflow": null,
       "overflow_x": null,
       "overflow_y": null,
       "padding": null,
       "right": null,
       "top": null,
       "visibility": null,
       "width": null
      }
     },
     "a4dd98a176aa4655a74d78c364d84c6c": {
      "model_module": "@jupyter-widgets/controls",
      "model_module_version": "1.5.0",
      "model_name": "ProgressStyleModel",
      "state": {
       "_model_module": "@jupyter-widgets/controls",
       "_model_module_version": "1.5.0",
       "_model_name": "ProgressStyleModel",
       "_view_count": null,
       "_view_module": "@jupyter-widgets/base",
       "_view_module_version": "1.2.0",
       "_view_name": "StyleView",
       "bar_color": null,
       "description_width": ""
      }
     },
     "b29ca747d22341f4a50e09abd9adb176": {
      "model_module": "@jupyter-widgets/controls",
      "model_module_version": "1.5.0",
      "model_name": "FloatProgressModel",
      "state": {
       "_dom_classes": [],
       "_model_module": "@jupyter-widgets/controls",
       "_model_module_version": "1.5.0",
       "_model_name": "FloatProgressModel",
       "_view_count": null,
       "_view_module": "@jupyter-widgets/controls",
       "_view_module_version": "1.5.0",
       "_view_name": "ProgressView",
       "bar_style": "",
       "description": "",
       "description_tooltip": null,
       "layout": "IPY_MODEL_d81fb70c694e4f269011c482c6a22655",
       "max": 1,
       "min": 0,
       "orientation": "horizontal",
       "style": "IPY_MODEL_a4dd98a176aa4655a74d78c364d84c6c",
       "value": 0
      }
     },
     "c29a032c0fd742298b5f550940b7dcf9": {
      "model_module": "@jupyter-widgets/controls",
      "model_module_version": "1.5.0",
      "model_name": "FloatProgressModel",
      "state": {
       "_dom_classes": [],
       "_model_module": "@jupyter-widgets/controls",
       "_model_module_version": "1.5.0",
       "_model_name": "FloatProgressModel",
       "_view_count": null,
       "_view_module": "@jupyter-widgets/controls",
       "_view_module_version": "1.5.0",
       "_view_name": "ProgressView",
       "bar_style": "",
       "description": "",
       "description_tooltip": null,
       "layout": "IPY_MODEL_7babb6f819af44dfb1cc6b800acee1b2",
       "max": 1,
       "min": 0,
       "orientation": "horizontal",
       "style": "IPY_MODEL_597e601e99434272b0abf9795baba81b",
       "value": 1
      }
     },
     "d31745e3c35a437285dcd1008f72083b": {
      "model_module": "@jupyter-widgets/controls",
      "model_module_version": "1.5.0",
      "model_name": "LabelModel",
      "state": {
       "_dom_classes": [],
       "_model_module": "@jupyter-widgets/controls",
       "_model_module_version": "1.5.0",
       "_model_name": "LabelModel",
       "_view_count": null,
       "_view_module": "@jupyter-widgets/controls",
       "_view_module_version": "1.5.0",
       "_view_name": "LabelView",
       "description": "",
       "description_tooltip": null,
       "layout": "IPY_MODEL_6f27134e371743d4b393e6bc72094c95",
       "placeholder": "​",
       "style": "IPY_MODEL_1abe813860d74eb09eb64472dd778546",
       "value": ""
      }
     },
     "d81fb70c694e4f269011c482c6a22655": {
      "model_module": "@jupyter-widgets/base",
      "model_module_version": "1.2.0",
      "model_name": "LayoutModel",
      "state": {
       "_model_module": "@jupyter-widgets/base",
       "_model_module_version": "1.2.0",
       "_model_name": "LayoutModel",
       "_view_count": null,
       "_view_module": "@jupyter-widgets/base",
       "_view_module_version": "1.2.0",
       "_view_name": "LayoutView",
       "align_content": null,
       "align_items": null,
       "align_self": null,
       "border": null,
       "bottom": null,
       "display": null,
       "flex": null,
       "flex_flow": null,
       "grid_area": null,
       "grid_auto_columns": null,
       "grid_auto_flow": null,
       "grid_auto_rows": null,
       "grid_column": null,
       "grid_gap": null,
       "grid_row": null,
       "grid_template_areas": null,
       "grid_template_columns": null,
       "grid_template_rows": null,
       "height": null,
       "justify_content": null,
       "justify_items": null,
       "left": null,
       "margin": null,
       "max_height": null,
       "max_width": null,
       "min_height": null,
       "min_width": null,
       "object_fit": null,
       "object_position": null,
       "order": null,
       "overflow": null,
       "overflow_x": null,
       "overflow_y": null,
       "padding": null,
       "right": null,
       "top": null,
       "visibility": null,
       "width": null
      }
     },
     "e974f230b6ac4a4f82076890e8aa915e": {
      "model_module": "@jupyter-widgets/controls",
      "model_module_version": "1.5.0",
      "model_name": "VBoxModel",
      "state": {
       "_dom_classes": [],
       "_model_module": "@jupyter-widgets/controls",
       "_model_module_version": "1.5.0",
       "_model_name": "VBoxModel",
       "_view_count": null,
       "_view_module": "@jupyter-widgets/controls",
       "_view_module_version": "1.5.0",
       "_view_name": "VBoxView",
       "box_style": "",
       "children": [
        "IPY_MODEL_d31745e3c35a437285dcd1008f72083b",
        "IPY_MODEL_b29ca747d22341f4a50e09abd9adb176"
       ],
       "layout": "IPY_MODEL_a2f094741984480c88d8afdb1c671d79"
      }
     },
     "eb67a17073084a27a8d12ffcf715c3e9": {
      "model_module": "@jupyter-widgets/controls",
      "model_module_version": "1.5.0",
      "model_name": "ProgressStyleModel",
      "state": {
       "_model_module": "@jupyter-widgets/controls",
       "_model_module_version": "1.5.0",
       "_model_name": "ProgressStyleModel",
       "_view_count": null,
       "_view_module": "@jupyter-widgets/base",
       "_view_module_version": "1.2.0",
       "_view_name": "StyleView",
       "bar_color": null,
       "description_width": ""
      }
     },
     "ec43b8f06fa4493197a452a73b60218c": {
      "model_module": "@jupyter-widgets/controls",
      "model_module_version": "1.5.0",
      "model_name": "DescriptionStyleModel",
      "state": {
       "_model_module": "@jupyter-widgets/controls",
       "_model_module_version": "1.5.0",
       "_model_name": "DescriptionStyleModel",
       "_view_count": null,
       "_view_module": "@jupyter-widgets/base",
       "_view_module_version": "1.2.0",
       "_view_name": "StyleView",
       "description_width": ""
      }
     }
    },
    "version_major": 2,
    "version_minor": 0
   }
  }
 },
 "nbformat": 4,
 "nbformat_minor": 5
}
